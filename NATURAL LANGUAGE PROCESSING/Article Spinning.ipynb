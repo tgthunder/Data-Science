{
 "cells": [
  {
   "cell_type": "code",
   "execution_count": 2,
   "id": "d226f253",
   "metadata": {},
   "outputs": [],
   "source": [
    "import numpy as np \n",
    "import pandas as pd"
   ]
  },
  {
   "cell_type": "code",
   "execution_count": 3,
   "id": "743219ff",
   "metadata": {},
   "outputs": [],
   "source": [
    "import nltk   # Natural language processing tool-kti\n",
    "import textwrap  # Use to format and manipulate text by adjusting paras\n",
    "from nltk import word_tokenize \n",
    "from nltk.tokenize.treebank import TreebankWordDetokenizer # Used to convert tokenized sentences into original string..\n",
    "# Detokenization required to reformulate the article"
   ]
  },
  {
   "cell_type": "code",
   "execution_count": 4,
   "id": "53e1356a",
   "metadata": {},
   "outputs": [
    {
     "name": "stderr",
     "output_type": "stream",
     "text": [
      "[nltk_data] Downloading package punkt to\n",
      "[nltk_data]     C:\\Users\\reliance\\AppData\\Roaming\\nltk_data...\n",
      "[nltk_data]   Package punkt is already up-to-date!\n"
     ]
    },
    {
     "data": {
      "text/plain": [
       "True"
      ]
     },
     "execution_count": 4,
     "metadata": {},
     "output_type": "execute_result"
    }
   ],
   "source": [
    "nltk.download(\"punkt\")"
   ]
  },
  {
   "cell_type": "code",
   "execution_count": 5,
   "id": "727cbba7",
   "metadata": {},
   "outputs": [],
   "source": [
    "df = pd.read_csv(\"bbc-text.csv\")"
   ]
  },
  {
   "cell_type": "code",
   "execution_count": 6,
   "id": "c9d4c23a",
   "metadata": {},
   "outputs": [
    {
     "data": {
      "text/html": [
       "<div>\n",
       "<style scoped>\n",
       "    .dataframe tbody tr th:only-of-type {\n",
       "        vertical-align: middle;\n",
       "    }\n",
       "\n",
       "    .dataframe tbody tr th {\n",
       "        vertical-align: top;\n",
       "    }\n",
       "\n",
       "    .dataframe thead th {\n",
       "        text-align: right;\n",
       "    }\n",
       "</style>\n",
       "<table border=\"1\" class=\"dataframe\">\n",
       "  <thead>\n",
       "    <tr style=\"text-align: right;\">\n",
       "      <th></th>\n",
       "      <th>category</th>\n",
       "      <th>text</th>\n",
       "    </tr>\n",
       "  </thead>\n",
       "  <tbody>\n",
       "    <tr>\n",
       "      <th>0</th>\n",
       "      <td>tech</td>\n",
       "      <td>tv future in the hands of viewers with home th...</td>\n",
       "    </tr>\n",
       "    <tr>\n",
       "      <th>1</th>\n",
       "      <td>business</td>\n",
       "      <td>worldcom boss  left books alone  former worldc...</td>\n",
       "    </tr>\n",
       "    <tr>\n",
       "      <th>2</th>\n",
       "      <td>sport</td>\n",
       "      <td>tigers wary of farrell  gamble  leicester say ...</td>\n",
       "    </tr>\n",
       "    <tr>\n",
       "      <th>3</th>\n",
       "      <td>sport</td>\n",
       "      <td>yeading face newcastle in fa cup premiership s...</td>\n",
       "    </tr>\n",
       "    <tr>\n",
       "      <th>4</th>\n",
       "      <td>entertainment</td>\n",
       "      <td>ocean s twelve raids box office ocean s twelve...</td>\n",
       "    </tr>\n",
       "  </tbody>\n",
       "</table>\n",
       "</div>"
      ],
      "text/plain": [
       "        category                                               text\n",
       "0           tech  tv future in the hands of viewers with home th...\n",
       "1       business  worldcom boss  left books alone  former worldc...\n",
       "2          sport  tigers wary of farrell  gamble  leicester say ...\n",
       "3          sport  yeading face newcastle in fa cup premiership s...\n",
       "4  entertainment  ocean s twelve raids box office ocean s twelve..."
      ]
     },
     "execution_count": 6,
     "metadata": {},
     "output_type": "execute_result"
    }
   ],
   "source": [
    "df.head()"
   ]
  },
  {
   "cell_type": "code",
   "execution_count": 7,
   "id": "09888f31",
   "metadata": {},
   "outputs": [
    {
     "name": "stdout",
     "output_type": "stream",
     "text": [
      "{'politics', 'tech', 'entertainment', 'sport', 'business'}\n",
      "\n",
      "Another method(Sudarshan's Method) to check labels:\n"
     ]
    },
    {
     "data": {
      "text/plain": [
       "array(['tech', 'business', 'sport', 'entertainment', 'politics'],\n",
       "      dtype=object)"
      ]
     },
     "execution_count": 7,
     "metadata": {},
     "output_type": "execute_result"
    }
   ],
   "source": [
    "labels = set(df['category'])\n",
    "print(labels) # to see which kind of labels we have and we are going to train one of these label.\n",
    "\n",
    "print()\n",
    "print(\"Another method(Sudarshan's Method) to check labels:\")\n",
    "df['category'].unique()"
   ]
  },
  {
   "cell_type": "code",
   "execution_count": 8,
   "id": "cb032d3c",
   "metadata": {},
   "outputs": [],
   "source": [
    "# I am Specifically Interested in Making article spinner for Business\n",
    "txts = df[df['category'] == \"business\"].reset_index()['text']\n"
   ]
  },
  {
   "cell_type": "code",
   "execution_count": 9,
   "id": "32ef28fb",
   "metadata": {},
   "outputs": [],
   "source": [
    "# Making the combination prev and next word with different middle word\n",
    "# storing them in a dict [ key: (w(t-1),w(t+1)) , value: {w(t) :count(wt)}] \n",
    "# Remeber that value is a dictionary\n",
    "probs = {}\n",
    "for doc in txts:\n",
    "    tokens = word_tokenize(doc)\n",
    "    for i in range(len(tokens)-2):\n",
    "        t_0 = tokens[i]\n",
    "        t_1 = tokens[i+1]\n",
    "        t_2 = tokens[i+2]\n",
    "        \n",
    "        # Adding prev and next element into the key\n",
    "        key = (t_0,t_2)\n",
    "        \n",
    "        if key not in probs:\n",
    "            probs[key] = {} # Making entry for the (toupled Key)\n",
    "        \n",
    "        # count for the middle word\n",
    "        if t_1 not in probs[key]:\n",
    "            probs[key][t_1] = 1\n",
    "        else:\n",
    "            probs[key][t_1]+=1\n",
    "            \n",
    "# Now Normalizing the probabilities\n",
    "for key,d in probs.items():\n",
    "    # d represents a distribution of prev and next word\n",
    "    total = sum(d.values())\n",
    "    \n",
    "    for k,v in d.items():\n",
    "        d[k] = v / total\n"
   ]
  },
  {
   "cell_type": "code",
   "execution_count": 10,
   "id": "79362878",
   "metadata": {},
   "outputs": [],
   "source": [
    "# Note: there are many words that appears only ones in middle so we are not interested to change them\n",
    "# Because it does'nt make any sense"
   ]
  },
  {
   "cell_type": "code",
   "execution_count": 25,
   "id": "5c703e85",
   "metadata": {},
   "outputs": [],
   "source": [
    "def spin_document(doc):\n",
    "    spinned_doc = spin_doc(doc)\n",
    "    return spinned_doc"
   ]
  },
  {
   "cell_type": "code",
   "execution_count": 33,
   "id": "97d1ba38",
   "metadata": {},
   "outputs": [],
   "source": [
    "detokenizer = TreebankWordDetokenizer()\n",
    "# Actually some times it might get failed means the task of Detokenizer is to regroup the words by giving\n",
    "# space between them and by not giving space for punctuations. sometimes it forgets to do this things"
   ]
  },
  {
   "cell_type": "code",
   "execution_count": 13,
   "id": "67985bc5",
   "metadata": {},
   "outputs": [
    {
     "name": "stdout",
     "output_type": "stream",
     "text": [
      "worldcom boss left books alone former worldcom boss bernie ebbers who is accused of overseeing an $11bn (£5.8bn) fraud never made accounting decisions a witness has told jurors . david myers made the comments under questioning by defence lawyers who have been arguing that mr ebbers was not responsible for worldcom s problems . the phone company collapsed in 2002 and prosecutors claim that losses were hidden to protect the firm s shares . mr myers has already pleaded guilty to fraud and is assisting prosecutors . on monday defence lawyer reid weingarten tried to distance his client from the allegations . during cross examination he asked mr myers if he ever knew mr ebbers make an accounting decision . not that i am aware of mr myers replied . did you ever know mr ebbers to make an accounting entry into worldcom books mr weingarten pressed . no replied the witness . mr myers has admitted that he ordered false accounting entries at the request of former worldcom chief financial officer scott sullivan . defence lawyers have been trying to paint mr sullivan who has admitted fraud and will testify later in the trial as the mastermind behind worldcom s accounting house of cards . mr ebbers team meanwhile are looking to portray him as an affable boss who by his own admission is more pe graduate than economist . whatever his abilities mr ebbers transformed worldcom from a relative unknown into a $160bn telecoms giant and investor darling of the late 1990s . worldcom s problems mounted however as competition increased and the telecoms boom petered out . when the firm finally collapsed shareholders lost about $180bn and 20 000 workers lost their jobs . mr ebbers trial is expected to last two months and if found guilty the former ceo faces a substantial jail sentence . he has firmly declared his innocence.\n"
     ]
    }
   ],
   "source": [
    "# Checking How detokenizer works\n",
    "print(detokenizer.detokenize(word_tokenize(txts[0])))"
   ]
  },
  {
   "cell_type": "code",
   "execution_count": 16,
   "id": "20b95d3e",
   "metadata": {},
   "outputs": [],
   "source": [
    "# selecting random word from our probability distribution\n",
    "def sample_word(d):\n",
    "    p0 = np.random.random()\n",
    "    cumulative = 0\n",
    "    for w , p in d.items():\n",
    "        cumulative +=p\n",
    "        if  p0 < cumulative:\n",
    "            return w\n",
    "    assert(False)"
   ]
  },
  {
   "cell_type": "code",
   "execution_count": 23,
   "id": "5c3fc3e8",
   "metadata": {},
   "outputs": [],
   "source": [
    "# Main function to spine document\n",
    "def spin_doc(doc):\n",
    "    tokens = word_tokenize(doc)\n",
    "    output = [tokens[0]]\n",
    "    i= 0\n",
    "    while i < (len(tokens)-2) :\n",
    "        t_0 = tokens[i]\n",
    "        t_1 = tokens[i+1] # we need to replace\n",
    "        t_2 = tokens[i+2]\n",
    "        \n",
    "        key = (t_0,t_2)\n",
    "        p_dist = probs[key]  # Retriving the probability dist for the combination\n",
    "        \n",
    "        \n",
    "        if len(p_dist) > 1 and np.random.random() < 0.3:\n",
    "            middle = sample_word(p_dist)\n",
    "            output.append(t_1) # appending the original word\n",
    "            output.append(\"<\" + middle + \">\")\n",
    "            output.append(t_2)\n",
    "            \n",
    "            # We dont want to replace the third token since middle is depend on the third\n",
    "            # so we will repalce words in the bunch of 3\n",
    "            i+=2\n",
    "            \n",
    "        else:\n",
    "            output.append(t_1)\n",
    "            i+=1\n",
    "                \n",
    "    # Last word to add\n",
    "    if i == len(tokens) -2:\n",
    "            output.append(tokens[-1])\n",
    "            \n",
    "    return detokenizer.detokenize(output)"
   ]
  },
  {
   "cell_type": "code",
   "execution_count": 31,
   "id": "8c6373e7",
   "metadata": {},
   "outputs": [],
   "source": [
    "# Randomly choosing document for spinning\n",
    "i = np.random.choice(txts.shape[0])\n",
    "new_doc = spin_document(txts.iloc[i])"
   ]
  },
  {
   "cell_type": "code",
   "execution_count": 32,
   "id": "07c7ffe8",
   "metadata": {},
   "outputs": [
    {
     "name": "stdout",
     "output_type": "stream",
     "text": [
      "giant waves damage s asia <asia> economy governments aid agencies\n",
      "insurers and travel <aerospace> firms are among those counting the\n",
      "cost <number> of the massive earthquake <trade> and waves that\n",
      "hammered southern asia . <and> the worst-hit areas are sri lanka india\n",
      "indonesia and thailand <talks> with at <not> least 23 000 people\n",
      "killed . early estimates from <that> the world bank put <is> the\n",
      "amount <light> of aid needed at about $5bn (£2.6bn) similar to the\n",
      "cash offered central america after hurricane mitch . mitch killed\n",
      "about 10 000 people and caused damage of about $10bn in 1998. world\n",
      "bank spokesman damien milverton told the wall <high> street journal\n",
      "that he expected an aid package of financing and debt relief . tourism\n",
      "<it> is a vital part of <in> the economies of the stricken countries\n",
      "providing jobs for 19 million people <people> in the <the> south east\n",
      "asian region according <close> to the world <holiday> travel and\n",
      "tourism council (wttc <pml>). in the maldives islands in the indian\n",
      "ocean two-thirds of all jobs depend on tourism . but the damage covers\n",
      "fishing farming and businesses too with hundreds of <of> thousands of\n",
      "buildings and small boats destroyed by the waves . international\n",
      "agencies have pledged their support; most say it <it> is impossible\n",
      "<prepared> to gauge the extent <part> of the damage yet <yet>. the\n",
      "international monetary fund (imf) has promised rapid action to help\n",
      "the governments of the stricken countries cope . the <an> imf stands\n",
      "ready to do <lessen> its part to assist these nations with appropriate\n",
      "support in their <wait> time of need said managing director rodrigo\n",
      "rato . only sri lanka and bangladesh currently receive imf support\n",
      "while indonesia <in> the quake <country> s epicentre has recently\n",
      "graduated from imf assistance . it is up <unlikely> to governments to\n",
      "decide if they want imf help . other agencies such as the asian\n",
      "development bank have said <complained> that it <gm> is too early to\n",
      "comment on the amount of aid needed . there is no underestimating the\n",
      "size of <of> the problem however . the <manchester> united nations\n",
      "emergency relief coordinator jan egeland said that this <governments>\n",
      "may be the worst national disaster in recent history because it is\n",
      "affecting so many heavily populated coastal areas...so many vulnerable\n",
      "communities . many people will have [had] their livelihoods their\n",
      "whole future destroyed in a few seconds <seconds>. he warned\n",
      "<stressed> that the longer <longer> term effects many be as\n",
      "devastating as the tidal wave or the tsunami itself because of the\n",
      "risks of epidemics from polluted drinking water . insurers <we> are\n",
      "also struggling to assess <consolidate> the cost of the damage\n",
      "<damage> but several big players believe the final bill <price> is\n",
      "likely to be less than the $27bn cost of <of> the hurricanes that\n",
      "battered <gave> the us earlier this year <week>. the region that s\n",
      "affected is very big so we have to check country-by-country what the\n",
      "situation is said serge troeber deputy head of the natural disasters\n",
      "department at swiss re the world <bank> s second biggest reinsurance\n",
      "firm . i should assume however that the overall dimension of insured\n",
      "damages is below the storm damages of <after> the us <increase> he\n",
      "said . munich <we> re the world s biggest reinsurer said: <:> this is\n",
      "primarily <launching> a human tragedy . it is too early for us to\n",
      "state what our financial burden will be . allianz has said it sees no\n",
      "significant impact on its profitability <claim>. however a low <low>\n",
      "insurance bill may simply reflect the general poverty of much <one> of\n",
      "the region <uk> rather than the level of economic devastation\n",
      "<commission> for those who live there . <.> the international\n",
      "federation of the red cross and red crescent societies told the\n",
      "reuters news agency that it was seeking $6.5m for emergency aid . the\n",
      "<the> biggest health challenges we face is the spread of waterborne\n",
      "diseases particularly malaria and diarrhoea the aid agency was quoted\n",
      "as saying . the <the> european union has said it will deliver 3m euros\n",
      "(£2.1m; $4.1m) of aid according to the <meet> wall street journal\n",
      "<protests>. the eu s humanitarian aid commissioner louis michel was\n",
      "quoted <cited> as saying <saying> that it was key to bring aid <them>\n",
      "in those vital hours and days immediately after the disaster\n",
      "<prosecutor>. other <some> countries also are reported to have pledged\n",
      "cash while <.> the us state department said it was examining <not>\n",
      "what aid was needed <sold> in the <the> region . getting <both>\n",
      "companies and business up <strategy> and running <it> also may play a\n",
      "vital role in helping communities recover from the weekend s events .\n",
      "many <one> of the worst-hit areas such as sri lanka thailand s phuket\n",
      "island and the maldives <markets> are popular tourist resorts that are\n",
      "key to local economies . december <eads> and january are two of the\n",
      "busiest months for the travel <value> in southern asia and the damage\n",
      "will be even more keenly felt as the industry was only just beginning\n",
      "<going> to emerge <approval> from a post 9/11 slump . growth has been\n",
      "<promised> rapid in southeast asia with <and> the world tourism\n",
      "<trade> organisation figures showing <confirming> a 45% increase <.>\n",
      "in tourist revenues in the region during the first <first> 10 months\n",
      "<days> of 2004. in southern <south> asia that expansion is 23% . india\n",
      "<india> continues to post excellent results thanks to increased\n",
      "promotion and product development but also <expects> to the upsurge\n",
      "<economy> in business travel driven by the rapid economic development\n",
      "of the country the wto said . arrivals to other destinations such\n",
      "as...maldives and sri lanka also thrived . in thailand tourism\n",
      "accounts for about 6 <70>% of the country s annual gross domestic\n",
      "product or about $8bn . in singapore the figure is close <reported> to\n",
      "5% . tourism also brings in much needed foreign currency . in the\n",
      "short-term <ranch> however travel companies are cancelling flights and\n",
      "trips . that <it> has hit shares across asia <quarters> and europe\n",
      "with investors saying that earnings and economic growth <conditions>\n",
      "are likely to slow.\n"
     ]
    }
   ],
   "source": [
    "# Using textwrap our text does not go off the screen\n",
    "print(textwrap.fill(new_doc , replace_whitespace = False , fix_sentence_endings = True))"
   ]
  },
  {
   "cell_type": "code",
   "execution_count": null,
   "id": "2c6734d7",
   "metadata": {},
   "outputs": [],
   "source": []
  }
 ],
 "metadata": {
  "kernelspec": {
   "display_name": "Python 3 (ipykernel)",
   "language": "python",
   "name": "python3"
  },
  "language_info": {
   "codemirror_mode": {
    "name": "ipython",
    "version": 3
   },
   "file_extension": ".py",
   "mimetype": "text/x-python",
   "name": "python",
   "nbconvert_exporter": "python",
   "pygments_lexer": "ipython3",
   "version": "3.9.13"
  }
 },
 "nbformat": 4,
 "nbformat_minor": 5
}
