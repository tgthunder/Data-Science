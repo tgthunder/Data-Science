{
 "cells": [
  {
   "cell_type": "code",
   "execution_count": 4,
   "id": "c079f5ab",
   "metadata": {},
   "outputs": [],
   "source": [
    "from gensim.models import Word2Vec,KeyedVectors"
   ]
  },
  {
   "cell_type": "code",
   "execution_count": 8,
   "id": "b63cc9a8",
   "metadata": {},
   "outputs": [],
   "source": [
    "model = KeyedVectors.load_word2vec_format('GoogleNews-vectors-negative300.bin.gz', binary=True)"
   ]
  },
  {
   "cell_type": "code",
   "execution_count": 21,
   "id": "13784e35",
   "metadata": {},
   "outputs": [],
   "source": [
    "# Lets Create a function to perform analogies\n",
    "def find_analogies(w1,w2,w3) :\n",
    "    # w1 - w2 = ? - w3\n",
    "    # King - Man = ? - Women\n",
    "    # ? = +King + Women - Man \n",
    "    \n",
    "    # Now apply the built in similarity function\n",
    "    r = model.most_similar(positive=[w1,w3] , negative=[w2])\n",
    "    print(f\"{w1} - {w2} = {r[0][0]} - {w3}\")"
   ]
  },
  {
   "cell_type": "code",
   "execution_count": 29,
   "id": "56c642ad",
   "metadata": {},
   "outputs": [
    {
     "name": "stdout",
     "output_type": "stream",
     "text": [
      "India - Delhi = UK - London\n"
     ]
    }
   ],
   "source": [
    "find_analogies(\"India\",\"Delhi\",\"London\")"
   ]
  },
  {
   "cell_type": "code",
   "execution_count": 30,
   "id": "eb6031e0",
   "metadata": {},
   "outputs": [
    {
     "name": "stdout",
     "output_type": "stream",
     "text": [
      "King - man = Queen - woman\n"
     ]
    }
   ],
   "source": [
    "find_analogies(\"King\",\"man\",\"woman\")"
   ]
  },
  {
   "cell_type": "code",
   "execution_count": 31,
   "id": "00787897",
   "metadata": {},
   "outputs": [
    {
     "name": "stdout",
     "output_type": "stream",
     "text": [
      "India - Indian = japan - japanese\n"
     ]
    }
   ],
   "source": [
    "find_analogies(\"India\",\"Indian\",\"japanese\")"
   ]
  },
  {
   "cell_type": "code",
   "execution_count": 35,
   "id": "c47b8702",
   "metadata": {},
   "outputs": [
    {
     "name": "stdout",
     "output_type": "stream",
     "text": [
      "December - November = October - September\n"
     ]
    }
   ],
   "source": [
    "find_analogies(\"December\",\"November\",\"September\")"
   ]
  },
  {
   "cell_type": "code",
   "execution_count": 43,
   "id": "f2cd04ec",
   "metadata": {},
   "outputs": [
    {
     "name": "stdout",
     "output_type": "stream",
     "text": [
      "man - women = boy - mother\n"
     ]
    }
   ],
   "source": [
    "find_analogies(\"man\",\"women\",\"mother\")  # Not expected"
   ]
  },
  {
   "cell_type": "code",
   "execution_count": 44,
   "id": "5b526c9a",
   "metadata": {},
   "outputs": [
    {
     "name": "stdout",
     "output_type": "stream",
     "text": [
      "man - women = actor - actress\n"
     ]
    }
   ],
   "source": [
    "find_analogies(\"man\",\"women\",'actress')"
   ]
  },
  {
   "cell_type": "code",
   "execution_count": 57,
   "id": "1c1d1489",
   "metadata": {},
   "outputs": [],
   "source": [
    "def nearest_neighbour(w):\n",
    "    neb = model.most_similar(positive=[w])\n",
    "    print(\"Most Similar of %s:\" % w)\n",
    "    for word , score in neb:\n",
    "        print(f\"\\t {word}\")"
   ]
  },
  {
   "cell_type": "code",
   "execution_count": 58,
   "id": "8e302553",
   "metadata": {},
   "outputs": [
    {
     "name": "stdout",
     "output_type": "stream",
     "text": [
      "Most Similar of King:\n",
      "\t Jackson\n",
      "\t Prince\n",
      "\t Tupou_V.\n",
      "\t KIng\n",
      "\t e_mail_robert.king_@\n",
      "\t king\n",
      "\t Queen\n",
      "\t Geoffrey_Rush_Exit\n",
      "\t prosecutor_Dan_Satterberg\n",
      "\t NECN_Alison\n"
     ]
    }
   ],
   "source": [
    "nearest_neighbour(\"King\")"
   ]
  },
  {
   "cell_type": "code",
   "execution_count": 60,
   "id": "afcaf666",
   "metadata": {},
   "outputs": [
    {
     "name": "stdout",
     "output_type": "stream",
     "text": [
      "Most Similar of father:\n",
      "\t son\n",
      "\t uncle\n",
      "\t brother\n",
      "\t grandfather\n",
      "\t dad\n",
      "\t mother\n",
      "\t nephew\n",
      "\t stepfather\n",
      "\t eldest_son\n",
      "\t grandson\n"
     ]
    }
   ],
   "source": [
    "nearest_neighbour(\"father\")"
   ]
  },
  {
   "cell_type": "code",
   "execution_count": 61,
   "id": "74f82950",
   "metadata": {},
   "outputs": [
    {
     "name": "stdout",
     "output_type": "stream",
     "text": [
      "Most Similar of uncle:\n",
      "\t father\n",
      "\t nephew\n",
      "\t brother\n",
      "\t grandfather\n",
      "\t son\n",
      "\t cousin\n",
      "\t grandson\n",
      "\t aunt\n",
      "\t uncles\n",
      "\t younger_brother\n"
     ]
    }
   ],
   "source": [
    "nearest_neighbour(\"uncle\")"
   ]
  },
  {
   "cell_type": "code",
   "execution_count": 63,
   "id": "b0c4beee",
   "metadata": {},
   "outputs": [
    {
     "name": "stdout",
     "output_type": "stream",
     "text": [
      "Most Similar of february:\n",
      "\t january\n",
      "\t april\n",
      "\t september\n",
      "\t december\n",
      "\t july\n",
      "\t october\n",
      "\t november\n",
      "\t june\n",
      "\t feb\n",
      "\t norway\n"
     ]
    }
   ],
   "source": [
    "nearest_neighbour(\"february\")"
   ]
  },
  {
   "cell_type": "code",
   "execution_count": null,
   "id": "9ec3d7c8",
   "metadata": {},
   "outputs": [],
   "source": [
    "from gensim.models import "
   ]
  }
 ],
 "metadata": {
  "kernelspec": {
   "display_name": "Python 3 (ipykernel)",
   "language": "python",
   "name": "python3"
  },
  "language_info": {
   "codemirror_mode": {
    "name": "ipython",
    "version": 3
   },
   "file_extension": ".py",
   "mimetype": "text/x-python",
   "name": "python",
   "nbconvert_exporter": "python",
   "pygments_lexer": "ipython3",
   "version": "3.9.13"
  }
 },
 "nbformat": 4,
 "nbformat_minor": 5
}
