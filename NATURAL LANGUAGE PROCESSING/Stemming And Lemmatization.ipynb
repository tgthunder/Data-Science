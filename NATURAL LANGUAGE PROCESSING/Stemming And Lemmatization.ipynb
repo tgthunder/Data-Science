{
 "cells": [
  {
   "cell_type": "markdown",
   "id": "4764d9a4",
   "metadata": {},
   "source": [
    "**Stemming**"
   ]
  },
  {
   "cell_type": "code",
   "execution_count": 2,
   "id": "fed6baf7",
   "metadata": {},
   "outputs": [],
   "source": [
    "import nltk"
   ]
  },
  {
   "cell_type": "code",
   "execution_count": 3,
   "id": "8963eda5",
   "metadata": {},
   "outputs": [],
   "source": [
    "from nltk.stem import PorterStemmer"
   ]
  },
  {
   "cell_type": "code",
   "execution_count": 4,
   "id": "3932ff51",
   "metadata": {},
   "outputs": [],
   "source": [
    "porter = PorterStemmer()"
   ]
  },
  {
   "cell_type": "code",
   "execution_count": 5,
   "id": "462b4498",
   "metadata": {},
   "outputs": [
    {
     "name": "stdout",
     "output_type": "stream",
     "text": [
      "bag\n"
     ]
    }
   ],
   "source": [
    "print(porter.stem(\"Bagging\"))"
   ]
  },
  {
   "cell_type": "code",
   "execution_count": 6,
   "id": "0c8c9c77",
   "metadata": {},
   "outputs": [
    {
     "data": {
      "text/plain": [
       "'mice'"
      ]
     },
     "execution_count": 6,
     "metadata": {},
     "output_type": "execute_result"
    }
   ],
   "source": [
    "porter.stem(\"Mice\")"
   ]
  },
  {
   "cell_type": "code",
   "execution_count": 7,
   "id": "1181b3a1",
   "metadata": {},
   "outputs": [
    {
     "data": {
      "text/plain": [
       "'compani'"
      ]
     },
     "execution_count": 7,
     "metadata": {},
     "output_type": "execute_result"
    }
   ],
   "source": [
    "porter.stem(\"companies\")"
   ]
  },
  {
   "cell_type": "code",
   "execution_count": 8,
   "id": "5ad17efe",
   "metadata": {},
   "outputs": [
    {
     "data": {
      "text/plain": [
       "'best'"
      ]
     },
     "execution_count": 8,
     "metadata": {},
     "output_type": "execute_result"
    }
   ],
   "source": [
    "porter.stem('best')"
   ]
  },
  {
   "cell_type": "code",
   "execution_count": 9,
   "id": "9b014e55",
   "metadata": {},
   "outputs": [
    {
     "data": {
      "text/plain": [
       "'ran'"
      ]
     },
     "execution_count": 9,
     "metadata": {},
     "output_type": "execute_result"
    }
   ],
   "source": [
    "porter.stem(\"ran\")"
   ]
  },
  {
   "cell_type": "code",
   "execution_count": 10,
   "id": "d1850e95",
   "metadata": {},
   "outputs": [
    {
     "data": {
      "text/plain": [
       "'replac'"
      ]
     },
     "execution_count": 10,
     "metadata": {},
     "output_type": "execute_result"
    }
   ],
   "source": [
    "porter.stem(\"replacement\")"
   ]
  },
  {
   "cell_type": "code",
   "execution_count": 11,
   "id": "71cb6966",
   "metadata": {},
   "outputs": [],
   "source": [
    "sentence = \"Lemmatization is More sophisticated than stemming\".split()"
   ]
  },
  {
   "cell_type": "code",
   "execution_count": 12,
   "id": "e70898dc",
   "metadata": {},
   "outputs": [
    {
     "name": "stdout",
     "output_type": "stream",
     "text": [
      "lemmat is more sophist than stem "
     ]
    }
   ],
   "source": [
    "for token in sentence:\n",
    "    print(porter.stem(token) , end = \" \")"
   ]
  },
  {
   "cell_type": "code",
   "execution_count": 13,
   "id": "591b76a3",
   "metadata": {},
   "outputs": [
    {
     "data": {
      "text/plain": [
       "'unnecessari'"
      ]
     },
     "execution_count": 13,
     "metadata": {},
     "output_type": "execute_result"
    }
   ],
   "source": [
    "porter.stem(\"unnecessary\")"
   ]
  },
  {
   "cell_type": "code",
   "execution_count": 14,
   "id": "b8eeab79",
   "metadata": {},
   "outputs": [],
   "source": [
    "# You can see that it replaced y with i and suffix un is not replaced to make it necessary because \n",
    "# both are opposite this would help in many NLP task..\n",
    "# Main task of stemmer is to remove prefix and suffix(Just Chopping)"
   ]
  },
  {
   "cell_type": "markdown",
   "id": "aad9b9d0",
   "metadata": {},
   "source": [
    "**Lemmatization**"
   ]
  },
  {
   "cell_type": "code",
   "execution_count": 58,
   "id": "87879db3",
   "metadata": {},
   "outputs": [
    {
     "name": "stderr",
     "output_type": "stream",
     "text": [
      "[nltk_data] Downloading package wordnet to\n",
      "[nltk_data]     C:\\Users\\reliance\\AppData\\Roaming\\nltk_data...\n",
      "[nltk_data]   Package wordnet is already up-to-date!\n"
     ]
    },
    {
     "data": {
      "text/plain": [
       "True"
      ]
     },
     "execution_count": 58,
     "metadata": {},
     "output_type": "execute_result"
    }
   ],
   "source": [
    "nltk.download(\"wordnet\")  # To download database on your local machine(just for download)"
   ]
  },
  {
   "cell_type": "code",
   "execution_count": 59,
   "id": "40ec89c5",
   "metadata": {},
   "outputs": [],
   "source": [
    "from nltk.corpus import wordnet  #To use the above downloaded dataset for use (required for pos tagging)\n",
    "# By default nltk comes with noun pos tag"
   ]
  },
  {
   "cell_type": "code",
   "execution_count": 21,
   "id": "2a4061de",
   "metadata": {},
   "outputs": [],
   "source": [
    "from nltk.stem.wordnet import WordNetLemmatizer"
   ]
  },
  {
   "cell_type": "code",
   "execution_count": 22,
   "id": "5474160e",
   "metadata": {},
   "outputs": [],
   "source": [
    "lemmatizer = WordNetLemmatizer()"
   ]
  },
  {
   "cell_type": "code",
   "execution_count": 25,
   "id": "5105f5c2",
   "metadata": {},
   "outputs": [
    {
     "data": {
      "text/plain": [
       "'walking'"
      ]
     },
     "execution_count": 25,
     "metadata": {},
     "output_type": "execute_result"
    }
   ],
   "source": [
    "lemmatizer.lemmatize('walking') # By default pos=Noun"
   ]
  },
  {
   "cell_type": "code",
   "execution_count": 26,
   "id": "dda7096d",
   "metadata": {},
   "outputs": [],
   "source": [
    "pos = wordnet.VERB"
   ]
  },
  {
   "cell_type": "code",
   "execution_count": 27,
   "id": "4d00bdce",
   "metadata": {},
   "outputs": [
    {
     "data": {
      "text/plain": [
       "'walk'"
      ]
     },
     "execution_count": 27,
     "metadata": {},
     "output_type": "execute_result"
    }
   ],
   "source": [
    "lemmatizer.lemmatize(\"walking\",pos=pos)"
   ]
  },
  {
   "cell_type": "code",
   "execution_count": 28,
   "id": "7d586f6b",
   "metadata": {},
   "outputs": [
    {
     "data": {
      "text/plain": [
       "'mouse'"
      ]
     },
     "execution_count": 28,
     "metadata": {},
     "output_type": "execute_result"
    }
   ],
   "source": [
    "lemmatizer.lemmatize(\"mice\")"
   ]
  },
  {
   "cell_type": "code",
   "execution_count": 30,
   "id": "e2a52db2",
   "metadata": {},
   "outputs": [
    {
     "data": {
      "text/plain": [
       "'purpose'"
      ]
     },
     "execution_count": 30,
     "metadata": {},
     "output_type": "execute_result"
    }
   ],
   "source": [
    "lemmatizer.lemmatize(\"purposes\")"
   ]
  },
  {
   "cell_type": "code",
   "execution_count": 33,
   "id": "155f28aa",
   "metadata": {},
   "outputs": [
    {
     "data": {
      "text/plain": [
       "'purpos'"
      ]
     },
     "execution_count": 33,
     "metadata": {},
     "output_type": "execute_result"
    }
   ],
   "source": [
    "porter.stem(\"purposes\")"
   ]
  },
  {
   "cell_type": "code",
   "execution_count": 32,
   "id": "c2eb715d",
   "metadata": {},
   "outputs": [
    {
     "data": {
      "text/plain": [
       "'Best'"
      ]
     },
     "execution_count": 32,
     "metadata": {},
     "output_type": "execute_result"
    }
   ],
   "source": [
    "lemmatizer.lemmatize(\"Best\",pos=pos)"
   ]
  },
  {
   "cell_type": "code",
   "execution_count": 34,
   "id": "c6e0d4b5",
   "metadata": {},
   "outputs": [],
   "source": [
    "# So well This is so lengthy process that everytime we have to mention pos tag\n",
    "# But But but nltk has a function which will automatically assigns pos tag (already trained)"
   ]
  },
  {
   "cell_type": "code",
   "execution_count": 35,
   "id": "01e5a823",
   "metadata": {},
   "outputs": [],
   "source": [
    "sentence = \"The brown fox jumps over the lazy dog\"\n",
    "tokens = nltk.word_tokenize(sentence)"
   ]
  },
  {
   "cell_type": "code",
   "execution_count": 38,
   "id": "06f83477",
   "metadata": {},
   "outputs": [
    {
     "name": "stderr",
     "output_type": "stream",
     "text": [
      "[nltk_data] Downloading package averaged_perceptron_tagger to\n",
      "[nltk_data]     C:\\Users\\reliance\\AppData\\Roaming\\nltk_data...\n",
      "[nltk_data]   Package averaged_perceptron_tagger is already up-to-\n",
      "[nltk_data]       date!\n"
     ]
    },
    {
     "data": {
      "text/plain": [
       "True"
      ]
     },
     "execution_count": 38,
     "metadata": {},
     "output_type": "execute_result"
    }
   ],
   "source": [
    "nltk.download(\"averaged_perceptron_tagger\")"
   ]
  },
  {
   "cell_type": "code",
   "execution_count": 39,
   "id": "01d9184c",
   "metadata": {},
   "outputs": [],
   "source": [
    "words_and_tags = nltk.pos_tag(tokens)"
   ]
  },
  {
   "cell_type": "code",
   "execution_count": 40,
   "id": "25f84edd",
   "metadata": {},
   "outputs": [
    {
     "data": {
      "text/plain": [
       "[('The', 'DT'),\n",
       " ('brown', 'JJ'),\n",
       " ('fox', 'NN'),\n",
       " ('jumps', 'NNS'),\n",
       " ('over', 'IN'),\n",
       " ('the', 'DT'),\n",
       " ('lazy', 'JJ'),\n",
       " ('dog', 'NN')]"
      ]
     },
     "execution_count": 40,
     "metadata": {},
     "output_type": "execute_result"
    }
   ],
   "source": [
    "words_and_tags"
   ]
  },
  {
   "cell_type": "code",
   "execution_count": 42,
   "id": "8c2587db",
   "metadata": {},
   "outputs": [],
   "source": [
    "def get_wordnet_tag(tag):\n",
    "    if tag.startswith(\"J\"):\n",
    "        return wordnet.ADJ\n",
    "    elif tag.startswith(\"N\"):\n",
    "        return wordnet.NOUN\n",
    "    elif tag.startswith(\"V\"):\n",
    "        return wordnet.VERB\n",
    "    elif tag.startswith(\"R\"):\n",
    "        return wordnet.ADV\n",
    "    else:\n",
    "        return wordnet.NOUN"
   ]
  },
  {
   "cell_type": "code",
   "execution_count": 56,
   "id": "6ff2be9c",
   "metadata": {},
   "outputs": [
    {
     "data": {
      "text/plain": [
       "[('He', 'PRP'),\n",
       " ('looks', 'VBZ'),\n",
       " ('at', 'IN'),\n",
       " ('falling', 'VBG'),\n",
       " ('stars', 'NNS'),\n",
       " ('everyday', 'RB')]"
      ]
     },
     "execution_count": 56,
     "metadata": {},
     "output_type": "execute_result"
    }
   ],
   "source": [
    "sentence = \"He looks at falling stars everyday\".split()\n",
    "word_and_tags = nltk.pos_tag(sentence)\n",
    "word_and_tags"
   ]
  },
  {
   "cell_type": "code",
   "execution_count": 57,
   "id": "3582a1e6",
   "metadata": {},
   "outputs": [
    {
     "name": "stdout",
     "output_type": "stream",
     "text": [
      "He look at fall star everyday "
     ]
    }
   ],
   "source": [
    "for word , tag in word_and_tags:\n",
    "    lemma = lemmatizer.lemmatize(word,pos=get_wordnet_tag(tag))\n",
    "    print(lemma,end = \" \")"
   ]
  },
  {
   "cell_type": "code",
   "execution_count": 46,
   "id": "d65f8c64",
   "metadata": {},
   "outputs": [
    {
     "data": {
      "text/plain": [
       "[('A', 'DT'),\n",
       " ('space', 'NN'),\n",
       " ('ship', 'NN'),\n",
       " ('is', 'VBZ'),\n",
       " ('falling', 'VBG'),\n",
       " ('towards', 'IN'),\n",
       " ('the', 'DT'),\n",
       " ('Earth', 'NN')]"
      ]
     },
     "execution_count": 46,
     "metadata": {},
     "output_type": "execute_result"
    }
   ],
   "source": [
    "sentence = \"A space ship is falling towards the Earth\".split()\n",
    "word_and_tags = nltk.pos_tag(sentence)\n",
    "word_and_tags"
   ]
  },
  {
   "cell_type": "code",
   "execution_count": 47,
   "id": "540e13ff",
   "metadata": {},
   "outputs": [
    {
     "name": "stdout",
     "output_type": "stream",
     "text": [
      "A space ship be fall towards the Earth "
     ]
    }
   ],
   "source": [
    "for word , tag in word_and_tags:\n",
    "    lemma = lemmatizer.lemmatize(word,pos=get_wordnet_tag(tag))\n",
    "    print(lemma,end = \" \")"
   ]
  },
  {
   "cell_type": "code",
   "execution_count": null,
   "id": "32675a41",
   "metadata": {},
   "outputs": [],
   "source": []
  }
 ],
 "metadata": {
  "kernelspec": {
   "display_name": "Python 3 (ipykernel)",
   "language": "python",
   "name": "python3"
  },
  "language_info": {
   "codemirror_mode": {
    "name": "ipython",
    "version": 3
   },
   "file_extension": ".py",
   "mimetype": "text/x-python",
   "name": "python",
   "nbconvert_exporter": "python",
   "pygments_lexer": "ipython3",
   "version": "3.9.13"
  }
 },
 "nbformat": 4,
 "nbformat_minor": 5
}
