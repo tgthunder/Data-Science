{
 "cells": [
  {
   "cell_type": "markdown",
   "id": "67a1e9fc",
   "metadata": {},
   "source": [
    "#   Basic Model 1"
   ]
  },
  {
   "cell_type": "code",
   "execution_count": 1,
   "id": "2bbd2cfe",
   "metadata": {},
   "outputs": [],
   "source": [
    "import pandas as pd \n",
    "import numpy as np"
   ]
  },
  {
   "cell_type": "code",
   "execution_count": 2,
   "id": "8288ec77",
   "metadata": {},
   "outputs": [],
   "source": [
    "import matplotlib.pyplot as plt\n",
    "import seaborn as sns"
   ]
  },
  {
   "cell_type": "code",
   "execution_count": 3,
   "id": "c8c8f1b4",
   "metadata": {},
   "outputs": [],
   "source": [
    "import nltk\n",
    "from nltk.tokenize import sent_tokenize,word_tokenize\n",
    "from nltk.corpus import stopwords\n",
    "import textwrap\n",
    "from nltk.stem import WordNetLemmatizer,PorterStemmer\n",
    "from sklearn.feature_extraction.text import TfidfVectorizer"
   ]
  },
  {
   "cell_type": "code",
   "execution_count": 4,
   "id": "d5503536",
   "metadata": {},
   "outputs": [
    {
     "name": "stderr",
     "output_type": "stream",
     "text": [
      "[nltk_data] Downloading package punkt to\n",
      "[nltk_data]     C:\\Users\\reliance\\AppData\\Roaming\\nltk_data...\n",
      "[nltk_data]   Package punkt is already up-to-date!\n",
      "[nltk_data] Downloading package stopwords to\n",
      "[nltk_data]     C:\\Users\\reliance\\AppData\\Roaming\\nltk_data...\n",
      "[nltk_data]   Package stopwords is already up-to-date!\n"
     ]
    },
    {
     "data": {
      "text/plain": [
       "True"
      ]
     },
     "execution_count": 4,
     "metadata": {},
     "output_type": "execute_result"
    }
   ],
   "source": [
    "nltk.download(\"punkt\")\n",
    "nltk.download(\"stopwords\")"
   ]
  },
  {
   "cell_type": "code",
   "execution_count": 5,
   "id": "5412b404",
   "metadata": {},
   "outputs": [],
   "source": [
    "df = pd.read_csv(\"bbc-text.csv\")"
   ]
  },
  {
   "cell_type": "code",
   "execution_count": 6,
   "id": "0c745881",
   "metadata": {},
   "outputs": [
    {
     "data": {
      "text/html": [
       "<div>\n",
       "<style scoped>\n",
       "    .dataframe tbody tr th:only-of-type {\n",
       "        vertical-align: middle;\n",
       "    }\n",
       "\n",
       "    .dataframe tbody tr th {\n",
       "        vertical-align: top;\n",
       "    }\n",
       "\n",
       "    .dataframe thead th {\n",
       "        text-align: right;\n",
       "    }\n",
       "</style>\n",
       "<table border=\"1\" class=\"dataframe\">\n",
       "  <thead>\n",
       "    <tr style=\"text-align: right;\">\n",
       "      <th></th>\n",
       "      <th>category</th>\n",
       "      <th>text</th>\n",
       "    </tr>\n",
       "  </thead>\n",
       "  <tbody>\n",
       "    <tr>\n",
       "      <th>0</th>\n",
       "      <td>tech</td>\n",
       "      <td>tv future in the hands of viewers with home th...</td>\n",
       "    </tr>\n",
       "    <tr>\n",
       "      <th>1</th>\n",
       "      <td>business</td>\n",
       "      <td>worldcom boss  left books alone  former worldc...</td>\n",
       "    </tr>\n",
       "    <tr>\n",
       "      <th>2</th>\n",
       "      <td>sport</td>\n",
       "      <td>tigers wary of farrell  gamble  leicester say ...</td>\n",
       "    </tr>\n",
       "    <tr>\n",
       "      <th>3</th>\n",
       "      <td>sport</td>\n",
       "      <td>yeading face newcastle in fa cup premiership s...</td>\n",
       "    </tr>\n",
       "    <tr>\n",
       "      <th>4</th>\n",
       "      <td>entertainment</td>\n",
       "      <td>ocean s twelve raids box office ocean s twelve...</td>\n",
       "    </tr>\n",
       "    <tr>\n",
       "      <th>...</th>\n",
       "      <td>...</td>\n",
       "      <td>...</td>\n",
       "    </tr>\n",
       "    <tr>\n",
       "      <th>2220</th>\n",
       "      <td>business</td>\n",
       "      <td>cars pull down us retail figures us retail sal...</td>\n",
       "    </tr>\n",
       "    <tr>\n",
       "      <th>2221</th>\n",
       "      <td>politics</td>\n",
       "      <td>kilroy unveils immigration policy ex-chatshow ...</td>\n",
       "    </tr>\n",
       "    <tr>\n",
       "      <th>2222</th>\n",
       "      <td>entertainment</td>\n",
       "      <td>rem announce new glasgow concert us band rem h...</td>\n",
       "    </tr>\n",
       "    <tr>\n",
       "      <th>2223</th>\n",
       "      <td>politics</td>\n",
       "      <td>how political squabbles snowball it s become c...</td>\n",
       "    </tr>\n",
       "    <tr>\n",
       "      <th>2224</th>\n",
       "      <td>sport</td>\n",
       "      <td>souness delight at euro progress boss graeme s...</td>\n",
       "    </tr>\n",
       "  </tbody>\n",
       "</table>\n",
       "<p>2225 rows × 2 columns</p>\n",
       "</div>"
      ],
      "text/plain": [
       "           category                                               text\n",
       "0              tech  tv future in the hands of viewers with home th...\n",
       "1          business  worldcom boss  left books alone  former worldc...\n",
       "2             sport  tigers wary of farrell  gamble  leicester say ...\n",
       "3             sport  yeading face newcastle in fa cup premiership s...\n",
       "4     entertainment  ocean s twelve raids box office ocean s twelve...\n",
       "...             ...                                                ...\n",
       "2220       business  cars pull down us retail figures us retail sal...\n",
       "2221       politics  kilroy unveils immigration policy ex-chatshow ...\n",
       "2222  entertainment  rem announce new glasgow concert us band rem h...\n",
       "2223       politics  how political squabbles snowball it s become c...\n",
       "2224          sport  souness delight at euro progress boss graeme s...\n",
       "\n",
       "[2225 rows x 2 columns]"
      ]
     },
     "execution_count": 6,
     "metadata": {},
     "output_type": "execute_result"
    }
   ],
   "source": [
    "df"
   ]
  },
  {
   "cell_type": "code",
   "execution_count": 7,
   "id": "d561c9f3",
   "metadata": {},
   "outputs": [],
   "source": [
    "def summerize(doc):\n",
    "    tokenized_doc = sent_tokenize(doc)\n",
    "    sentences = tokenized_doc\n",
    "    df = pd.DataFrame(sentences,columns=['sentence'])\n",
    "    vectorizer = TfidfVectorizer(max_features=200)\n",
    "    num_col = vectorizer.fit_transform(df['sentence'])\n",
    "#     return num_col.todense()\n",
    "    idx_score = {}\n",
    "    for idx , score in enumerate(num_col.todense()):\n",
    "        avg_score = np.average(score)\n",
    "        if (idx and avg_score) not in idx_score.items():\n",
    "            idx_score[idx] = avg_score\n",
    "    sorted_scores = sorted(idx_score.values(),reverse=True)\n",
    "    \n",
    "    def find_key(d , target_value):\n",
    "        for k , v in d.items():\n",
    "            if v == target_value:\n",
    "                return k\n",
    "    print(\"Most Common sentences from the Document: \")\n",
    "    print()\n",
    "    i=0\n",
    "    while(i<5):\n",
    "        score = sorted_scores[i]\n",
    "        key = find_key(idx_score,score)\n",
    "        print(df.iloc[key]['sentence'],end=\" \")\n",
    "        \n",
    "        i+=1"
   ]
  },
  {
   "cell_type": "code",
   "execution_count": 8,
   "id": "2493098c",
   "metadata": {},
   "outputs": [
    {
     "name": "stdout",
     "output_type": "stream",
     "text": [
      "Most Common sentences from the Document: \n",
      "\n",
      "the return to fitness of darius vassell after four months out with a broken ankle and the emergence of luke moore has alleviated some of the villa s manager s problems in that department. the striker  who is on a season-long loan from chelsea  picked up the knock in an england under-21 match against holland earlier this month. cole  who also struggled with an ankle problem earlier in the season  was unable to rest because o leary had a shortage of strikers. carlton will be out of action for four to six weeks after a bad challenge   said villa boss david o leary. i won t be able to tell you whether he will need an operation until maybe next week. "
     ]
    }
   ],
   "source": [
    "summerize(df['text'][23])"
   ]
  },
  {
   "cell_type": "code",
   "execution_count": 9,
   "id": "3c9ca8fd",
   "metadata": {},
   "outputs": [
    {
     "data": {
      "text/plain": [
       "'cole faces lengthy injury lay-off aston villa s carlton cole could be out for six weeks with a knee injury.  the striker  who is on a season-long loan from chelsea  picked up the knock in an england under-21 match against holland earlier this month.  carlton will be out of action for four to six weeks after a bad challenge   said villa boss david o leary.  i won t be able to tell you whether he will need an operation until maybe next week. whether he has an operation has got to be left to chelsea.  cole  who also struggled with an ankle problem earlier in the season  was unable to rest because o leary had a shortage of strikers. the return to fitness of darius vassell after four months out with a broken ankle and the emergence of luke moore has alleviated some of the villa s manager s problems in that department.'"
      ]
     },
     "execution_count": 9,
     "metadata": {},
     "output_type": "execute_result"
    }
   ],
   "source": [
    "df['text'][23]"
   ]
  },
  {
   "cell_type": "markdown",
   "id": "1498803f",
   "metadata": {},
   "source": [
    "# More Sophisticated TF-IDF Approach"
   ]
  },
  {
   "cell_type": "code",
   "execution_count": 10,
   "id": "4dbbb76f",
   "metadata": {},
   "outputs": [
    {
     "data": {
      "text/html": [
       "<div>\n",
       "<style scoped>\n",
       "    .dataframe tbody tr th:only-of-type {\n",
       "        vertical-align: middle;\n",
       "    }\n",
       "\n",
       "    .dataframe tbody tr th {\n",
       "        vertical-align: top;\n",
       "    }\n",
       "\n",
       "    .dataframe thead th {\n",
       "        text-align: right;\n",
       "    }\n",
       "</style>\n",
       "<table border=\"1\" class=\"dataframe\">\n",
       "  <thead>\n",
       "    <tr style=\"text-align: right;\">\n",
       "      <th></th>\n",
       "      <th>category</th>\n",
       "      <th>text</th>\n",
       "    </tr>\n",
       "  </thead>\n",
       "  <tbody>\n",
       "    <tr>\n",
       "      <th>0</th>\n",
       "      <td>tech</td>\n",
       "      <td>tv future in the hands of viewers with home th...</td>\n",
       "    </tr>\n",
       "    <tr>\n",
       "      <th>1</th>\n",
       "      <td>business</td>\n",
       "      <td>worldcom boss  left books alone  former worldc...</td>\n",
       "    </tr>\n",
       "    <tr>\n",
       "      <th>2</th>\n",
       "      <td>sport</td>\n",
       "      <td>tigers wary of farrell  gamble  leicester say ...</td>\n",
       "    </tr>\n",
       "    <tr>\n",
       "      <th>3</th>\n",
       "      <td>sport</td>\n",
       "      <td>yeading face newcastle in fa cup premiership s...</td>\n",
       "    </tr>\n",
       "    <tr>\n",
       "      <th>4</th>\n",
       "      <td>entertainment</td>\n",
       "      <td>ocean s twelve raids box office ocean s twelve...</td>\n",
       "    </tr>\n",
       "    <tr>\n",
       "      <th>...</th>\n",
       "      <td>...</td>\n",
       "      <td>...</td>\n",
       "    </tr>\n",
       "    <tr>\n",
       "      <th>2220</th>\n",
       "      <td>business</td>\n",
       "      <td>cars pull down us retail figures us retail sal...</td>\n",
       "    </tr>\n",
       "    <tr>\n",
       "      <th>2221</th>\n",
       "      <td>politics</td>\n",
       "      <td>kilroy unveils immigration policy ex-chatshow ...</td>\n",
       "    </tr>\n",
       "    <tr>\n",
       "      <th>2222</th>\n",
       "      <td>entertainment</td>\n",
       "      <td>rem announce new glasgow concert us band rem h...</td>\n",
       "    </tr>\n",
       "    <tr>\n",
       "      <th>2223</th>\n",
       "      <td>politics</td>\n",
       "      <td>how political squabbles snowball it s become c...</td>\n",
       "    </tr>\n",
       "    <tr>\n",
       "      <th>2224</th>\n",
       "      <td>sport</td>\n",
       "      <td>souness delight at euro progress boss graeme s...</td>\n",
       "    </tr>\n",
       "  </tbody>\n",
       "</table>\n",
       "<p>2225 rows × 2 columns</p>\n",
       "</div>"
      ],
      "text/plain": [
       "           category                                               text\n",
       "0              tech  tv future in the hands of viewers with home th...\n",
       "1          business  worldcom boss  left books alone  former worldc...\n",
       "2             sport  tigers wary of farrell  gamble  leicester say ...\n",
       "3             sport  yeading face newcastle in fa cup premiership s...\n",
       "4     entertainment  ocean s twelve raids box office ocean s twelve...\n",
       "...             ...                                                ...\n",
       "2220       business  cars pull down us retail figures us retail sal...\n",
       "2221       politics  kilroy unveils immigration policy ex-chatshow ...\n",
       "2222  entertainment  rem announce new glasgow concert us band rem h...\n",
       "2223       politics  how political squabbles snowball it s become c...\n",
       "2224          sport  souness delight at euro progress boss graeme s...\n",
       "\n",
       "[2225 rows x 2 columns]"
      ]
     },
     "execution_count": 10,
     "metadata": {},
     "output_type": "execute_result"
    }
   ],
   "source": [
    "df"
   ]
  },
  {
   "cell_type": "code",
   "execution_count": 11,
   "id": "d2918993",
   "metadata": {},
   "outputs": [],
   "source": [
    "# One document from the entire dataset\n",
    "doc = df[df.category == \"entertainment\"]['text'].sample(random_state=101)"
   ]
  },
  {
   "cell_type": "code",
   "execution_count": 12,
   "id": "49cf3ac2",
   "metadata": {},
   "outputs": [
    {
     "data": {
      "text/plain": [
       "230    tv show unites angolan families angolan famili...\n",
       "Name: text, dtype: object"
      ]
     },
     "execution_count": 12,
     "metadata": {},
     "output_type": "execute_result"
    }
   ],
   "source": [
    "doc"
   ]
  },
  {
   "cell_type": "code",
   "execution_count": 13,
   "id": "7f861826",
   "metadata": {},
   "outputs": [],
   "source": [
    "# For utilizing the space very efficiently\n",
    "def wrap(x):\n",
    "    return textwrap.fill(x , replace_whitespace = False , fix_sentence_endings = True)"
   ]
  },
  {
   "cell_type": "code",
   "execution_count": 14,
   "id": "91067500",
   "metadata": {},
   "outputs": [
    {
     "name": "stdout",
     "output_type": "stream",
     "text": [
      "tv show unites angolan families angolan families who are attempting to\n",
      "track each other down  after being separated by nearly 30 years of war\n",
      "are succeeding thanks to a hugely popular tv show.  meeting point has\n",
      "become one of tv angola s most watched programmes  and has reunited\n",
      "hundreds of families.  it runs daily  not only on the television but\n",
      "also on the radio.  every friday  hundreds of people gather in luanda\n",
      "s independence square to record a message in front of the tv cameras\n",
      "in the hope that a lost relative will see it.  many relatives have\n",
      "been reunited on air.  at the beginning there was an absolute\n",
      "explosion - huge  huge crowds   sergio gera  the programme s chief co-\n",
      "ordinator  told bbc world service s assignment programme.  now things\n",
      "are a little calmer  there are slightly less people - but  after two\n",
      "and a half years of broadcasting  there are still a lot of people\n",
      "going.   the media in the southern african country  twice the size of\n",
      "france  has been gripped by the quest of so many people to find their\n",
      "relatives.  hundreds of thousands of people died in angola s 30-year\n",
      "civil war  which finally ended in 2002  and tens of thousands of\n",
      "people are still missing.  many have not heard anything for 10 or more\n",
      "years - in all  90% of angolan families have lost someone.  the idea\n",
      "of recording in independence square was modelled on a square in the\n",
      "argentine capital buenos aries  where mothers go to talk about the\n",
      "dead and the missing  and to exchange news.  one woman  victoria\n",
      "lapete  found her sister - the only remaining member of her family -\n",
      "in independence square live on meeting point.  she had not seen her\n",
      "sibling for 28 years.  when we saw each other  we threw ourselves into\n",
      "each other s arms   she told assignment.  we started to cry.  i felt\n",
      "very  very happy  because i d spent so long without any family.\n",
      "suddenly i had a sister again.  however  angola is one of the poorest\n",
      "countries in africa  and the number of people with access to either a\n",
      "television or radio is comparatively few.  this means that elsewhere\n",
      "in the country  the task of reuniting families lies primarily with the\n",
      "international committee of the red cross (icrc). in the city of wambo\n",
      "the icrc runs the gazetta - a 200-page  tabloid-size book which\n",
      "contains 13 000 names of missing or displaced.  their task is made\n",
      "much harder by the huge number of landmines dotted around the country.\n",
      "it s very difficult - there are many displaced   stated joaquim\n",
      "sahundi  head of tracing in wambo.   as they try to go back [home]\n",
      "others are trying to relocate their relatives.  many people are\n",
      "getting injured because of that - in the villages  in the bush  there\n",
      "has been no clearance of mines.  when people are crossing these areas\n",
      "they step on mines.  the icrc also uses the media where it can\n",
      "running four daily broadcasts of their lists of the missing on radio\n",
      "angola.  meanwhile  there remain massive challenges to angolan\n",
      "families even once they are reunited.  the programme of family\n",
      "reunification is extremely important  but for these families to remain\n",
      "reunified  there has to be social integration  job access  education\n",
      "healthcare   said rafael marques of the pro-democracy george soros\n",
      "foundation for southern africa.  essentially the government is waiting\n",
      "for the international community to pay for the reconstruction - that s\n",
      "why it has been persistently calling for a donor s conference.  that\n",
      "is just a way of detaching itself from its political responsibilities.\n"
     ]
    }
   ],
   "source": [
    "print(wrap(doc.iloc[0]))"
   ]
  },
  {
   "cell_type": "code",
   "execution_count": 15,
   "id": "802ff0c3",
   "metadata": {},
   "outputs": [],
   "source": [
    "# getting the sentences from the document\n",
    "sents = sent_tokenize(doc.iloc[0])"
   ]
  },
  {
   "cell_type": "code",
   "execution_count": 16,
   "id": "0aa4a8ba",
   "metadata": {},
   "outputs": [],
   "source": [
    "# Vectorization\n",
    "tf_idf = TfidfVectorizer(\n",
    "                stop_words=\"english\",\n",
    "                norm=\"l1\")"
   ]
  },
  {
   "cell_type": "code",
   "execution_count": 17,
   "id": "a8a40477",
   "metadata": {},
   "outputs": [],
   "source": [
    "X = tf_idf.fit_transform(sents)"
   ]
  },
  {
   "cell_type": "code",
   "execution_count": 18,
   "id": "83d09d79",
   "metadata": {},
   "outputs": [],
   "source": [
    "# Put the avg_score of each sentence\n",
    "avg_score = np.zeros(len(sents))\n",
    "def score(vector):\n",
    "    mat = vector.todense()\n",
    "    new_mat = []\n",
    "    for i in mat:\n",
    "        new_mat.append(i[i!=0])\n",
    "    for i in range(len(new_mat)):\n",
    "        avg_score[i] = new_mat[i].mean()"
   ]
  },
  {
   "cell_type": "code",
   "execution_count": 19,
   "id": "3553bdec",
   "metadata": {},
   "outputs": [],
   "source": [
    "score(X)"
   ]
  },
  {
   "cell_type": "code",
   "execution_count": 20,
   "id": "a5d0fe94",
   "metadata": {},
   "outputs": [],
   "source": [
    "sorted_idx = np.argsort(avg_score)"
   ]
  },
  {
   "cell_type": "code",
   "execution_count": 23,
   "id": "e6afc96a",
   "metadata": {},
   "outputs": [
    {
     "name": "stdout",
     "output_type": "stream",
     "text": [
      "the programme of family reunification is extremely important  but for these families to remain reunified  there has to be social integration  job access  education  healthcare   said rafael marques of the pro-democracy george soros foundation for southern africa. in the city of wambo  the icrc runs the gazetta - a 200-page  tabloid-size book which contains 13 000 names of missing or displaced. at the beginning there was an absolute explosion - huge  huge crowds   sergio gera  the programme s chief co-ordinator  told bbc world service s assignment programme. "
     ]
    }
   ],
   "source": [
    "for i in sorted_idx[0:3]:\n",
    "    print(sents[i],end=\" \")"
   ]
  },
  {
   "cell_type": "code",
   "execution_count": null,
   "id": "5f156a92",
   "metadata": {},
   "outputs": [],
   "source": []
  }
 ],
 "metadata": {
  "kernelspec": {
   "display_name": "Python 3 (ipykernel)",
   "language": "python",
   "name": "python3"
  },
  "language_info": {
   "codemirror_mode": {
    "name": "ipython",
    "version": 3
   },
   "file_extension": ".py",
   "mimetype": "text/x-python",
   "name": "python",
   "nbconvert_exporter": "python",
   "pygments_lexer": "ipython3",
   "version": "3.9.13"
  }
 },
 "nbformat": 4,
 "nbformat_minor": 5
}
