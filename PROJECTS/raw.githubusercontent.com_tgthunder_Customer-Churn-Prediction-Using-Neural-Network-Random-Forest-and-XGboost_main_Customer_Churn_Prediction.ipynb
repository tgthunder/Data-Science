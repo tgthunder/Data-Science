{
  "cells": [
    {
      "cell_type": "markdown",
      "metadata": {
        "id": "view-in-github",
        "colab_type": "text"
      },
      "source": [
        "<a href=\"https://colab.research.google.com/github/tgthunder/Customer-Churn-Prediction-Using-Neural-Network-Random-Forest-and-XGboost/blob/main/Customer_Churn_Prediction.ipynb\" target=\"_parent\"><img src=\"https://colab.research.google.com/assets/colab-badge.svg\" alt=\"Open In Colab\"/></a>"
      ]
    },
    {
      "cell_type": "markdown",
      "source": [
        "# Customer Churn Prediction Using Deep Neural Networks, Random Foreset , Xgboost"
      ],
      "metadata": {
        "id": "X6bKLgMXpE_V"
      },
      "id": "X6bKLgMXpE_V"
    },
    {
      "cell_type": "code",
      "source": [
        "# Importing The Data Preprocessing Libraries\n",
        "import numpy as np\n",
        "import pandas as pd"
      ],
      "metadata": {
        "id": "yRMOAYHbpCtE"
      },
      "id": "yRMOAYHbpCtE",
      "execution_count": 282,
      "outputs": []
    },
    {
      "cell_type": "code",
      "source": [
        "# Importing the Data Visualization Libraries\n",
        "import matplotlib.pyplot as plt\n",
        "import seaborn as sns"
      ],
      "metadata": {
        "id": "rzRuCvHVpCwX"
      },
      "id": "rzRuCvHVpCwX",
      "execution_count": 283,
      "outputs": []
    },
    {
      "cell_type": "code",
      "source": [
        "# Importing the Libraries for Feature Engineering , Model Building , Model Evalution\n",
        "from sklearn.preprocessing import LabelEncoder , StandardScaler,MinMaxScaler\n",
        "from sklearn.model_selection import train_test_split\n",
        "from imblearn.over_sampling import SMOTE\n",
        "import tensorflow\n",
        "from tensorflow import keras\n",
        "from tensorflow.keras import Sequential\n",
        "from keras.layers import Dense\n",
        "from tensorflow.keras.regularizers import l2"
      ],
      "metadata": {
        "id": "yimG6mvlpCy4"
      },
      "id": "yimG6mvlpCy4",
      "execution_count": 322,
      "outputs": []
    },
    {
      "cell_type": "code",
      "source": [
        "# Data Aquistion\n",
        "df = pd.read_csv(\"train.csv\")"
      ],
      "metadata": {
        "id": "Fr8S5sedpC1-"
      },
      "id": "Fr8S5sedpC1-",
      "execution_count": 81,
      "outputs": []
    },
    {
      "cell_type": "markdown",
      "source": [
        "# Exploratory Data Analysis\n",
        "** **\n",
        "**EDA is a crucial step that helps us to understand the data, uncover patterns, relationships and guides your subsequent decisions in feature engineering, model selection, and more.**"
      ],
      "metadata": {
        "id": "lopN-lpIq6K9"
      },
      "id": "lopN-lpIq6K9"
    },
    {
      "cell_type": "code",
      "source": [
        "df.head()"
      ],
      "metadata": {
        "colab": {
          "base_uri": "https://localhost:8080/",
          "height": 226
        },
        "id": "41pgx2RWpC6w",
        "outputId": "bc81b754-e227-4e89-bbc4-d1a400d42e1c"
      },
      "id": "41pgx2RWpC6w",
      "execution_count": 82,
      "outputs": [
        {
          "output_type": "execute_result",
          "data": {
            "text/plain": [
              "  state  account_length      area_code international_plan voice_mail_plan  \\\n",
              "0    OH             107  area_code_415                 no             yes   \n",
              "1    NJ             137  area_code_415                 no              no   \n",
              "2    OH              84  area_code_408                yes              no   \n",
              "3    OK              75  area_code_415                yes              no   \n",
              "4    MA             121  area_code_510                 no             yes   \n",
              "\n",
              "   number_vmail_messages  total_day_minutes  total_day_calls  \\\n",
              "0                     26              161.6              123   \n",
              "1                      0              243.4              114   \n",
              "2                      0              299.4               71   \n",
              "3                      0              166.7              113   \n",
              "4                     24              218.2               88   \n",
              "\n",
              "   total_day_charge  total_eve_minutes  total_eve_calls  total_eve_charge  \\\n",
              "0             27.47              195.5              103             16.62   \n",
              "1             41.38              121.2              110             10.30   \n",
              "2             50.90               61.9               88              5.26   \n",
              "3             28.34              148.3              122             12.61   \n",
              "4             37.09              348.5              108             29.62   \n",
              "\n",
              "   total_night_minutes  total_night_calls  total_night_charge  \\\n",
              "0                254.4                103               11.45   \n",
              "1                162.6                104                7.32   \n",
              "2                196.9                 89                8.86   \n",
              "3                186.9                121                8.41   \n",
              "4                212.6                118                9.57   \n",
              "\n",
              "   total_intl_minutes  total_intl_calls  total_intl_charge  \\\n",
              "0                13.7                 3               3.70   \n",
              "1                12.2                 5               3.29   \n",
              "2                 6.6                 7               1.78   \n",
              "3                10.1                 3               2.73   \n",
              "4                 7.5                 7               2.03   \n",
              "\n",
              "   number_customer_service_calls churn  \n",
              "0                              1    no  \n",
              "1                              0    no  \n",
              "2                              2    no  \n",
              "3                              3    no  \n",
              "4                              3    no  "
            ],
            "text/html": [
              "\n",
              "  <div id=\"df-d10c7c35-986d-485e-859b-f6b0c761120c\" class=\"colab-df-container\">\n",
              "    <div>\n",
              "<style scoped>\n",
              "    .dataframe tbody tr th:only-of-type {\n",
              "        vertical-align: middle;\n",
              "    }\n",
              "\n",
              "    .dataframe tbody tr th {\n",
              "        vertical-align: top;\n",
              "    }\n",
              "\n",
              "    .dataframe thead th {\n",
              "        text-align: right;\n",
              "    }\n",
              "</style>\n",
              "<table border=\"1\" class=\"dataframe\">\n",
              "  <thead>\n",
              "    <tr style=\"text-align: right;\">\n",
              "      <th></th>\n",
              "      <th>state</th>\n",
              "      <th>account_length</th>\n",
              "      <th>area_code</th>\n",
              "      <th>international_plan</th>\n",
              "      <th>voice_mail_plan</th>\n",
              "      <th>number_vmail_messages</th>\n",
              "      <th>total_day_minutes</th>\n",
              "      <th>total_day_calls</th>\n",
              "      <th>total_day_charge</th>\n",
              "      <th>total_eve_minutes</th>\n",
              "      <th>total_eve_calls</th>\n",
              "      <th>total_eve_charge</th>\n",
              "      <th>total_night_minutes</th>\n",
              "      <th>total_night_calls</th>\n",
              "      <th>total_night_charge</th>\n",
              "      <th>total_intl_minutes</th>\n",
              "      <th>total_intl_calls</th>\n",
              "      <th>total_intl_charge</th>\n",
              "      <th>number_customer_service_calls</th>\n",
              "      <th>churn</th>\n",
              "    </tr>\n",
              "  </thead>\n",
              "  <tbody>\n",
              "    <tr>\n",
              "      <th>0</th>\n",
              "      <td>OH</td>\n",
              "      <td>107</td>\n",
              "      <td>area_code_415</td>\n",
              "      <td>no</td>\n",
              "      <td>yes</td>\n",
              "      <td>26</td>\n",
              "      <td>161.6</td>\n",
              "      <td>123</td>\n",
              "      <td>27.47</td>\n",
              "      <td>195.5</td>\n",
              "      <td>103</td>\n",
              "      <td>16.62</td>\n",
              "      <td>254.4</td>\n",
              "      <td>103</td>\n",
              "      <td>11.45</td>\n",
              "      <td>13.7</td>\n",
              "      <td>3</td>\n",
              "      <td>3.70</td>\n",
              "      <td>1</td>\n",
              "      <td>no</td>\n",
              "    </tr>\n",
              "    <tr>\n",
              "      <th>1</th>\n",
              "      <td>NJ</td>\n",
              "      <td>137</td>\n",
              "      <td>area_code_415</td>\n",
              "      <td>no</td>\n",
              "      <td>no</td>\n",
              "      <td>0</td>\n",
              "      <td>243.4</td>\n",
              "      <td>114</td>\n",
              "      <td>41.38</td>\n",
              "      <td>121.2</td>\n",
              "      <td>110</td>\n",
              "      <td>10.30</td>\n",
              "      <td>162.6</td>\n",
              "      <td>104</td>\n",
              "      <td>7.32</td>\n",
              "      <td>12.2</td>\n",
              "      <td>5</td>\n",
              "      <td>3.29</td>\n",
              "      <td>0</td>\n",
              "      <td>no</td>\n",
              "    </tr>\n",
              "    <tr>\n",
              "      <th>2</th>\n",
              "      <td>OH</td>\n",
              "      <td>84</td>\n",
              "      <td>area_code_408</td>\n",
              "      <td>yes</td>\n",
              "      <td>no</td>\n",
              "      <td>0</td>\n",
              "      <td>299.4</td>\n",
              "      <td>71</td>\n",
              "      <td>50.90</td>\n",
              "      <td>61.9</td>\n",
              "      <td>88</td>\n",
              "      <td>5.26</td>\n",
              "      <td>196.9</td>\n",
              "      <td>89</td>\n",
              "      <td>8.86</td>\n",
              "      <td>6.6</td>\n",
              "      <td>7</td>\n",
              "      <td>1.78</td>\n",
              "      <td>2</td>\n",
              "      <td>no</td>\n",
              "    </tr>\n",
              "    <tr>\n",
              "      <th>3</th>\n",
              "      <td>OK</td>\n",
              "      <td>75</td>\n",
              "      <td>area_code_415</td>\n",
              "      <td>yes</td>\n",
              "      <td>no</td>\n",
              "      <td>0</td>\n",
              "      <td>166.7</td>\n",
              "      <td>113</td>\n",
              "      <td>28.34</td>\n",
              "      <td>148.3</td>\n",
              "      <td>122</td>\n",
              "      <td>12.61</td>\n",
              "      <td>186.9</td>\n",
              "      <td>121</td>\n",
              "      <td>8.41</td>\n",
              "      <td>10.1</td>\n",
              "      <td>3</td>\n",
              "      <td>2.73</td>\n",
              "      <td>3</td>\n",
              "      <td>no</td>\n",
              "    </tr>\n",
              "    <tr>\n",
              "      <th>4</th>\n",
              "      <td>MA</td>\n",
              "      <td>121</td>\n",
              "      <td>area_code_510</td>\n",
              "      <td>no</td>\n",
              "      <td>yes</td>\n",
              "      <td>24</td>\n",
              "      <td>218.2</td>\n",
              "      <td>88</td>\n",
              "      <td>37.09</td>\n",
              "      <td>348.5</td>\n",
              "      <td>108</td>\n",
              "      <td>29.62</td>\n",
              "      <td>212.6</td>\n",
              "      <td>118</td>\n",
              "      <td>9.57</td>\n",
              "      <td>7.5</td>\n",
              "      <td>7</td>\n",
              "      <td>2.03</td>\n",
              "      <td>3</td>\n",
              "      <td>no</td>\n",
              "    </tr>\n",
              "  </tbody>\n",
              "</table>\n",
              "</div>\n",
              "    <div class=\"colab-df-buttons\">\n",
              "\n",
              "  <div class=\"colab-df-container\">\n",
              "    <button class=\"colab-df-convert\" onclick=\"convertToInteractive('df-d10c7c35-986d-485e-859b-f6b0c761120c')\"\n",
              "            title=\"Convert this dataframe to an interactive table.\"\n",
              "            style=\"display:none;\">\n",
              "\n",
              "  <svg xmlns=\"http://www.w3.org/2000/svg\" height=\"24px\" viewBox=\"0 -960 960 960\">\n",
              "    <path d=\"M120-120v-720h720v720H120Zm60-500h600v-160H180v160Zm220 220h160v-160H400v160Zm0 220h160v-160H400v160ZM180-400h160v-160H180v160Zm440 0h160v-160H620v160ZM180-180h160v-160H180v160Zm440 0h160v-160H620v160Z\"/>\n",
              "  </svg>\n",
              "    </button>\n",
              "\n",
              "  <style>\n",
              "    .colab-df-container {\n",
              "      display:flex;\n",
              "      gap: 12px;\n",
              "    }\n",
              "\n",
              "    .colab-df-convert {\n",
              "      background-color: #E8F0FE;\n",
              "      border: none;\n",
              "      border-radius: 50%;\n",
              "      cursor: pointer;\n",
              "      display: none;\n",
              "      fill: #1967D2;\n",
              "      height: 32px;\n",
              "      padding: 0 0 0 0;\n",
              "      width: 32px;\n",
              "    }\n",
              "\n",
              "    .colab-df-convert:hover {\n",
              "      background-color: #E2EBFA;\n",
              "      box-shadow: 0px 1px 2px rgba(60, 64, 67, 0.3), 0px 1px 3px 1px rgba(60, 64, 67, 0.15);\n",
              "      fill: #174EA6;\n",
              "    }\n",
              "\n",
              "    .colab-df-buttons div {\n",
              "      margin-bottom: 4px;\n",
              "    }\n",
              "\n",
              "    [theme=dark] .colab-df-convert {\n",
              "      background-color: #3B4455;\n",
              "      fill: #D2E3FC;\n",
              "    }\n",
              "\n",
              "    [theme=dark] .colab-df-convert:hover {\n",
              "      background-color: #434B5C;\n",
              "      box-shadow: 0px 1px 3px 1px rgba(0, 0, 0, 0.15);\n",
              "      filter: drop-shadow(0px 1px 2px rgba(0, 0, 0, 0.3));\n",
              "      fill: #FFFFFF;\n",
              "    }\n",
              "  </style>\n",
              "\n",
              "    <script>\n",
              "      const buttonEl =\n",
              "        document.querySelector('#df-d10c7c35-986d-485e-859b-f6b0c761120c button.colab-df-convert');\n",
              "      buttonEl.style.display =\n",
              "        google.colab.kernel.accessAllowed ? 'block' : 'none';\n",
              "\n",
              "      async function convertToInteractive(key) {\n",
              "        const element = document.querySelector('#df-d10c7c35-986d-485e-859b-f6b0c761120c');\n",
              "        const dataTable =\n",
              "          await google.colab.kernel.invokeFunction('convertToInteractive',\n",
              "                                                    [key], {});\n",
              "        if (!dataTable) return;\n",
              "\n",
              "        const docLinkHtml = 'Like what you see? Visit the ' +\n",
              "          '<a target=\"_blank\" href=https://colab.research.google.com/notebooks/data_table.ipynb>data table notebook</a>'\n",
              "          + ' to learn more about interactive tables.';\n",
              "        element.innerHTML = '';\n",
              "        dataTable['output_type'] = 'display_data';\n",
              "        await google.colab.output.renderOutput(dataTable, element);\n",
              "        const docLink = document.createElement('div');\n",
              "        docLink.innerHTML = docLinkHtml;\n",
              "        element.appendChild(docLink);\n",
              "      }\n",
              "    </script>\n",
              "  </div>\n",
              "\n",
              "\n",
              "<div id=\"df-3c8e01b9-56f3-48fb-8234-73b2b818dd4b\">\n",
              "  <button class=\"colab-df-quickchart\" onclick=\"quickchart('df-3c8e01b9-56f3-48fb-8234-73b2b818dd4b')\"\n",
              "            title=\"Suggest charts.\"\n",
              "            style=\"display:none;\">\n",
              "\n",
              "<svg xmlns=\"http://www.w3.org/2000/svg\" height=\"24px\"viewBox=\"0 0 24 24\"\n",
              "     width=\"24px\">\n",
              "    <g>\n",
              "        <path d=\"M19 3H5c-1.1 0-2 .9-2 2v14c0 1.1.9 2 2 2h14c1.1 0 2-.9 2-2V5c0-1.1-.9-2-2-2zM9 17H7v-7h2v7zm4 0h-2V7h2v10zm4 0h-2v-4h2v4z\"/>\n",
              "    </g>\n",
              "</svg>\n",
              "  </button>\n",
              "\n",
              "<style>\n",
              "  .colab-df-quickchart {\n",
              "    background-color: #E8F0FE;\n",
              "    border: none;\n",
              "    border-radius: 50%;\n",
              "    cursor: pointer;\n",
              "    display: none;\n",
              "    fill: #1967D2;\n",
              "    height: 32px;\n",
              "    padding: 0 0 0 0;\n",
              "    width: 32px;\n",
              "  }\n",
              "\n",
              "  .colab-df-quickchart:hover {\n",
              "    background-color: #E2EBFA;\n",
              "    box-shadow: 0px 1px 2px rgba(60, 64, 67, 0.3), 0px 1px 3px 1px rgba(60, 64, 67, 0.15);\n",
              "    fill: #174EA6;\n",
              "  }\n",
              "\n",
              "  [theme=dark] .colab-df-quickchart {\n",
              "    background-color: #3B4455;\n",
              "    fill: #D2E3FC;\n",
              "  }\n",
              "\n",
              "  [theme=dark] .colab-df-quickchart:hover {\n",
              "    background-color: #434B5C;\n",
              "    box-shadow: 0px 1px 3px 1px rgba(0, 0, 0, 0.15);\n",
              "    filter: drop-shadow(0px 1px 2px rgba(0, 0, 0, 0.3));\n",
              "    fill: #FFFFFF;\n",
              "  }\n",
              "</style>\n",
              "\n",
              "  <script>\n",
              "    async function quickchart(key) {\n",
              "      const charts = await google.colab.kernel.invokeFunction(\n",
              "          'suggestCharts', [key], {});\n",
              "    }\n",
              "    (() => {\n",
              "      let quickchartButtonEl =\n",
              "        document.querySelector('#df-3c8e01b9-56f3-48fb-8234-73b2b818dd4b button');\n",
              "      quickchartButtonEl.style.display =\n",
              "        google.colab.kernel.accessAllowed ? 'block' : 'none';\n",
              "    })();\n",
              "  </script>\n",
              "</div>\n",
              "    </div>\n",
              "  </div>\n"
            ]
          },
          "metadata": {},
          "execution_count": 82
        }
      ]
    },
    {
      "cell_type": "code",
      "source": [
        "# Shape of the dataset\n",
        "df.shape"
      ],
      "metadata": {
        "colab": {
          "base_uri": "https://localhost:8080/"
        },
        "id": "67GhgJqwpDDD",
        "outputId": "b02b8e56-37d4-454f-dbd6-283fc16a6601"
      },
      "id": "67GhgJqwpDDD",
      "execution_count": 83,
      "outputs": [
        {
          "output_type": "execute_result",
          "data": {
            "text/plain": [
              "(4250, 20)"
            ]
          },
          "metadata": {},
          "execution_count": 83
        }
      ]
    },
    {
      "cell_type": "code",
      "source": [
        "# Exploring the number of attributes and number of entries in the dataset\n",
        "df.info()"
      ],
      "metadata": {
        "colab": {
          "base_uri": "https://localhost:8080/"
        },
        "id": "9iCMWlAvq7Fu",
        "outputId": "b74b6170-2c5f-4cdc-9e1c-0803cb80b3ef"
      },
      "id": "9iCMWlAvq7Fu",
      "execution_count": 84,
      "outputs": [
        {
          "output_type": "stream",
          "name": "stdout",
          "text": [
            "<class 'pandas.core.frame.DataFrame'>\n",
            "RangeIndex: 4250 entries, 0 to 4249\n",
            "Data columns (total 20 columns):\n",
            " #   Column                         Non-Null Count  Dtype  \n",
            "---  ------                         --------------  -----  \n",
            " 0   state                          4250 non-null   object \n",
            " 1   account_length                 4250 non-null   int64  \n",
            " 2   area_code                      4250 non-null   object \n",
            " 3   international_plan             4250 non-null   object \n",
            " 4   voice_mail_plan                4250 non-null   object \n",
            " 5   number_vmail_messages          4250 non-null   int64  \n",
            " 6   total_day_minutes              4250 non-null   float64\n",
            " 7   total_day_calls                4250 non-null   int64  \n",
            " 8   total_day_charge               4250 non-null   float64\n",
            " 9   total_eve_minutes              4250 non-null   float64\n",
            " 10  total_eve_calls                4250 non-null   int64  \n",
            " 11  total_eve_charge               4250 non-null   float64\n",
            " 12  total_night_minutes            4250 non-null   float64\n",
            " 13  total_night_calls              4250 non-null   int64  \n",
            " 14  total_night_charge             4250 non-null   float64\n",
            " 15  total_intl_minutes             4250 non-null   float64\n",
            " 16  total_intl_calls               4250 non-null   int64  \n",
            " 17  total_intl_charge              4250 non-null   float64\n",
            " 18  number_customer_service_calls  4250 non-null   int64  \n",
            " 19  churn                          4250 non-null   object \n",
            "dtypes: float64(8), int64(7), object(5)\n",
            "memory usage: 664.2+ KB\n"
          ]
        }
      ]
    },
    {
      "cell_type": "code",
      "source": [
        "# Descriptive statistics of the data set\n",
        "df.describe([0.05,0.25,0.50,0.75,0.90,0.95,0.99])"
      ],
      "metadata": {
        "colab": {
          "base_uri": "https://localhost:8080/",
          "height": 445
        },
        "id": "kHu1tUdRrGkX",
        "outputId": "7facf111-436f-4074-89a6-6148b661eb3a"
      },
      "id": "kHu1tUdRrGkX",
      "execution_count": 85,
      "outputs": [
        {
          "output_type": "execute_result",
          "data": {
            "text/plain": [
              "       account_length  number_vmail_messages  total_day_minutes  \\\n",
              "count     4250.000000            4250.000000        4250.000000   \n",
              "mean       100.236235               7.631765         180.259600   \n",
              "std         39.698401              13.439882          54.012373   \n",
              "min          1.000000               0.000000           0.000000   \n",
              "5%          35.450000               0.000000          91.590000   \n",
              "25%         73.000000               0.000000         143.325000   \n",
              "50%        100.000000               0.000000         180.450000   \n",
              "75%        127.000000              16.000000         216.200000   \n",
              "90%        152.000000              31.000000         249.810000   \n",
              "95%        167.000000              36.000000         271.055000   \n",
              "99%        194.000000              43.000000         304.855000   \n",
              "max        243.000000              52.000000         351.500000   \n",
              "\n",
              "       total_day_calls  total_day_charge  total_eve_minutes  total_eve_calls  \\\n",
              "count      4250.000000       4250.000000        4250.000000      4250.000000   \n",
              "mean         99.907294         30.644682         200.173906       100.176471   \n",
              "std          19.850817          9.182096          50.249518        19.908591   \n",
              "min           0.000000          0.000000           0.000000         0.000000   \n",
              "5%           67.000000         15.573500         118.200000        67.000000   \n",
              "25%          87.000000         24.365000         165.925000        87.000000   \n",
              "50%         100.000000         30.680000         200.700000       100.000000   \n",
              "75%         113.000000         36.750000         233.775000       114.000000   \n",
              "90%         125.000000         42.471000         264.310000       125.000000   \n",
              "95%         133.000000         46.081000         282.710000       133.000000   \n",
              "99%         145.510000         51.825900         318.651000       147.000000   \n",
              "max         165.000000         59.760000         359.300000       170.000000   \n",
              "\n",
              "       total_eve_charge  total_night_minutes  total_night_calls  \\\n",
              "count       4250.000000          4250.000000        4250.000000   \n",
              "mean          17.015012           200.527882          99.839529   \n",
              "std            4.271212            50.353548          20.093220   \n",
              "min            0.000000             0.000000           0.000000   \n",
              "5%            10.050000           118.090000          67.000000   \n",
              "25%           14.102500           167.225000          86.000000   \n",
              "50%           17.060000           200.450000         100.000000   \n",
              "75%           19.867500           234.700000         113.000000   \n",
              "90%           22.470000           263.900000         125.000000   \n",
              "95%           24.031000           282.710000         132.000000   \n",
              "99%           27.085100           317.555000         147.510000   \n",
              "max           30.540000           395.000000         175.000000   \n",
              "\n",
              "       total_night_charge  total_intl_minutes  total_intl_calls  \\\n",
              "count         4250.000000         4250.000000       4250.000000   \n",
              "mean             9.023892           10.256071          4.426353   \n",
              "std              2.265922            2.760102          2.463069   \n",
              "min              0.000000            0.000000          0.000000   \n",
              "5%               5.314500            5.700000          1.000000   \n",
              "25%              7.522500            8.500000          3.000000   \n",
              "50%              9.020000           10.300000          4.000000   \n",
              "75%             10.560000           12.000000          6.000000   \n",
              "90%             11.880000           13.700000          8.000000   \n",
              "95%             12.725500           14.600000          9.000000   \n",
              "99%             14.290200           16.551000         13.000000   \n",
              "max             17.770000           20.000000         20.000000   \n",
              "\n",
              "       total_intl_charge  number_customer_service_calls  \n",
              "count        4250.000000                    4250.000000  \n",
              "mean            2.769654                       1.559059  \n",
              "std             0.745204                       1.311434  \n",
              "min             0.000000                       0.000000  \n",
              "5%              1.540000                       0.000000  \n",
              "25%             2.300000                       1.000000  \n",
              "50%             2.780000                       1.000000  \n",
              "75%             3.240000                       2.000000  \n",
              "90%             3.700000                       3.000000  \n",
              "95%             3.940000                       4.000000  \n",
              "99%             4.470200                       6.000000  \n",
              "max             5.400000                       9.000000  "
            ],
            "text/html": [
              "\n",
              "  <div id=\"df-844384e2-ab49-4ea9-b72f-16f774ee65d9\" class=\"colab-df-container\">\n",
              "    <div>\n",
              "<style scoped>\n",
              "    .dataframe tbody tr th:only-of-type {\n",
              "        vertical-align: middle;\n",
              "    }\n",
              "\n",
              "    .dataframe tbody tr th {\n",
              "        vertical-align: top;\n",
              "    }\n",
              "\n",
              "    .dataframe thead th {\n",
              "        text-align: right;\n",
              "    }\n",
              "</style>\n",
              "<table border=\"1\" class=\"dataframe\">\n",
              "  <thead>\n",
              "    <tr style=\"text-align: right;\">\n",
              "      <th></th>\n",
              "      <th>account_length</th>\n",
              "      <th>number_vmail_messages</th>\n",
              "      <th>total_day_minutes</th>\n",
              "      <th>total_day_calls</th>\n",
              "      <th>total_day_charge</th>\n",
              "      <th>total_eve_minutes</th>\n",
              "      <th>total_eve_calls</th>\n",
              "      <th>total_eve_charge</th>\n",
              "      <th>total_night_minutes</th>\n",
              "      <th>total_night_calls</th>\n",
              "      <th>total_night_charge</th>\n",
              "      <th>total_intl_minutes</th>\n",
              "      <th>total_intl_calls</th>\n",
              "      <th>total_intl_charge</th>\n",
              "      <th>number_customer_service_calls</th>\n",
              "    </tr>\n",
              "  </thead>\n",
              "  <tbody>\n",
              "    <tr>\n",
              "      <th>count</th>\n",
              "      <td>4250.000000</td>\n",
              "      <td>4250.000000</td>\n",
              "      <td>4250.000000</td>\n",
              "      <td>4250.000000</td>\n",
              "      <td>4250.000000</td>\n",
              "      <td>4250.000000</td>\n",
              "      <td>4250.000000</td>\n",
              "      <td>4250.000000</td>\n",
              "      <td>4250.000000</td>\n",
              "      <td>4250.000000</td>\n",
              "      <td>4250.000000</td>\n",
              "      <td>4250.000000</td>\n",
              "      <td>4250.000000</td>\n",
              "      <td>4250.000000</td>\n",
              "      <td>4250.000000</td>\n",
              "    </tr>\n",
              "    <tr>\n",
              "      <th>mean</th>\n",
              "      <td>100.236235</td>\n",
              "      <td>7.631765</td>\n",
              "      <td>180.259600</td>\n",
              "      <td>99.907294</td>\n",
              "      <td>30.644682</td>\n",
              "      <td>200.173906</td>\n",
              "      <td>100.176471</td>\n",
              "      <td>17.015012</td>\n",
              "      <td>200.527882</td>\n",
              "      <td>99.839529</td>\n",
              "      <td>9.023892</td>\n",
              "      <td>10.256071</td>\n",
              "      <td>4.426353</td>\n",
              "      <td>2.769654</td>\n",
              "      <td>1.559059</td>\n",
              "    </tr>\n",
              "    <tr>\n",
              "      <th>std</th>\n",
              "      <td>39.698401</td>\n",
              "      <td>13.439882</td>\n",
              "      <td>54.012373</td>\n",
              "      <td>19.850817</td>\n",
              "      <td>9.182096</td>\n",
              "      <td>50.249518</td>\n",
              "      <td>19.908591</td>\n",
              "      <td>4.271212</td>\n",
              "      <td>50.353548</td>\n",
              "      <td>20.093220</td>\n",
              "      <td>2.265922</td>\n",
              "      <td>2.760102</td>\n",
              "      <td>2.463069</td>\n",
              "      <td>0.745204</td>\n",
              "      <td>1.311434</td>\n",
              "    </tr>\n",
              "    <tr>\n",
              "      <th>min</th>\n",
              "      <td>1.000000</td>\n",
              "      <td>0.000000</td>\n",
              "      <td>0.000000</td>\n",
              "      <td>0.000000</td>\n",
              "      <td>0.000000</td>\n",
              "      <td>0.000000</td>\n",
              "      <td>0.000000</td>\n",
              "      <td>0.000000</td>\n",
              "      <td>0.000000</td>\n",
              "      <td>0.000000</td>\n",
              "      <td>0.000000</td>\n",
              "      <td>0.000000</td>\n",
              "      <td>0.000000</td>\n",
              "      <td>0.000000</td>\n",
              "      <td>0.000000</td>\n",
              "    </tr>\n",
              "    <tr>\n",
              "      <th>5%</th>\n",
              "      <td>35.450000</td>\n",
              "      <td>0.000000</td>\n",
              "      <td>91.590000</td>\n",
              "      <td>67.000000</td>\n",
              "      <td>15.573500</td>\n",
              "      <td>118.200000</td>\n",
              "      <td>67.000000</td>\n",
              "      <td>10.050000</td>\n",
              "      <td>118.090000</td>\n",
              "      <td>67.000000</td>\n",
              "      <td>5.314500</td>\n",
              "      <td>5.700000</td>\n",
              "      <td>1.000000</td>\n",
              "      <td>1.540000</td>\n",
              "      <td>0.000000</td>\n",
              "    </tr>\n",
              "    <tr>\n",
              "      <th>25%</th>\n",
              "      <td>73.000000</td>\n",
              "      <td>0.000000</td>\n",
              "      <td>143.325000</td>\n",
              "      <td>87.000000</td>\n",
              "      <td>24.365000</td>\n",
              "      <td>165.925000</td>\n",
              "      <td>87.000000</td>\n",
              "      <td>14.102500</td>\n",
              "      <td>167.225000</td>\n",
              "      <td>86.000000</td>\n",
              "      <td>7.522500</td>\n",
              "      <td>8.500000</td>\n",
              "      <td>3.000000</td>\n",
              "      <td>2.300000</td>\n",
              "      <td>1.000000</td>\n",
              "    </tr>\n",
              "    <tr>\n",
              "      <th>50%</th>\n",
              "      <td>100.000000</td>\n",
              "      <td>0.000000</td>\n",
              "      <td>180.450000</td>\n",
              "      <td>100.000000</td>\n",
              "      <td>30.680000</td>\n",
              "      <td>200.700000</td>\n",
              "      <td>100.000000</td>\n",
              "      <td>17.060000</td>\n",
              "      <td>200.450000</td>\n",
              "      <td>100.000000</td>\n",
              "      <td>9.020000</td>\n",
              "      <td>10.300000</td>\n",
              "      <td>4.000000</td>\n",
              "      <td>2.780000</td>\n",
              "      <td>1.000000</td>\n",
              "    </tr>\n",
              "    <tr>\n",
              "      <th>75%</th>\n",
              "      <td>127.000000</td>\n",
              "      <td>16.000000</td>\n",
              "      <td>216.200000</td>\n",
              "      <td>113.000000</td>\n",
              "      <td>36.750000</td>\n",
              "      <td>233.775000</td>\n",
              "      <td>114.000000</td>\n",
              "      <td>19.867500</td>\n",
              "      <td>234.700000</td>\n",
              "      <td>113.000000</td>\n",
              "      <td>10.560000</td>\n",
              "      <td>12.000000</td>\n",
              "      <td>6.000000</td>\n",
              "      <td>3.240000</td>\n",
              "      <td>2.000000</td>\n",
              "    </tr>\n",
              "    <tr>\n",
              "      <th>90%</th>\n",
              "      <td>152.000000</td>\n",
              "      <td>31.000000</td>\n",
              "      <td>249.810000</td>\n",
              "      <td>125.000000</td>\n",
              "      <td>42.471000</td>\n",
              "      <td>264.310000</td>\n",
              "      <td>125.000000</td>\n",
              "      <td>22.470000</td>\n",
              "      <td>263.900000</td>\n",
              "      <td>125.000000</td>\n",
              "      <td>11.880000</td>\n",
              "      <td>13.700000</td>\n",
              "      <td>8.000000</td>\n",
              "      <td>3.700000</td>\n",
              "      <td>3.000000</td>\n",
              "    </tr>\n",
              "    <tr>\n",
              "      <th>95%</th>\n",
              "      <td>167.000000</td>\n",
              "      <td>36.000000</td>\n",
              "      <td>271.055000</td>\n",
              "      <td>133.000000</td>\n",
              "      <td>46.081000</td>\n",
              "      <td>282.710000</td>\n",
              "      <td>133.000000</td>\n",
              "      <td>24.031000</td>\n",
              "      <td>282.710000</td>\n",
              "      <td>132.000000</td>\n",
              "      <td>12.725500</td>\n",
              "      <td>14.600000</td>\n",
              "      <td>9.000000</td>\n",
              "      <td>3.940000</td>\n",
              "      <td>4.000000</td>\n",
              "    </tr>\n",
              "    <tr>\n",
              "      <th>99%</th>\n",
              "      <td>194.000000</td>\n",
              "      <td>43.000000</td>\n",
              "      <td>304.855000</td>\n",
              "      <td>145.510000</td>\n",
              "      <td>51.825900</td>\n",
              "      <td>318.651000</td>\n",
              "      <td>147.000000</td>\n",
              "      <td>27.085100</td>\n",
              "      <td>317.555000</td>\n",
              "      <td>147.510000</td>\n",
              "      <td>14.290200</td>\n",
              "      <td>16.551000</td>\n",
              "      <td>13.000000</td>\n",
              "      <td>4.470200</td>\n",
              "      <td>6.000000</td>\n",
              "    </tr>\n",
              "    <tr>\n",
              "      <th>max</th>\n",
              "      <td>243.000000</td>\n",
              "      <td>52.000000</td>\n",
              "      <td>351.500000</td>\n",
              "      <td>165.000000</td>\n",
              "      <td>59.760000</td>\n",
              "      <td>359.300000</td>\n",
              "      <td>170.000000</td>\n",
              "      <td>30.540000</td>\n",
              "      <td>395.000000</td>\n",
              "      <td>175.000000</td>\n",
              "      <td>17.770000</td>\n",
              "      <td>20.000000</td>\n",
              "      <td>20.000000</td>\n",
              "      <td>5.400000</td>\n",
              "      <td>9.000000</td>\n",
              "    </tr>\n",
              "  </tbody>\n",
              "</table>\n",
              "</div>\n",
              "    <div class=\"colab-df-buttons\">\n",
              "\n",
              "  <div class=\"colab-df-container\">\n",
              "    <button class=\"colab-df-convert\" onclick=\"convertToInteractive('df-844384e2-ab49-4ea9-b72f-16f774ee65d9')\"\n",
              "            title=\"Convert this dataframe to an interactive table.\"\n",
              "            style=\"display:none;\">\n",
              "\n",
              "  <svg xmlns=\"http://www.w3.org/2000/svg\" height=\"24px\" viewBox=\"0 -960 960 960\">\n",
              "    <path d=\"M120-120v-720h720v720H120Zm60-500h600v-160H180v160Zm220 220h160v-160H400v160Zm0 220h160v-160H400v160ZM180-400h160v-160H180v160Zm440 0h160v-160H620v160ZM180-180h160v-160H180v160Zm440 0h160v-160H620v160Z\"/>\n",
              "  </svg>\n",
              "    </button>\n",
              "\n",
              "  <style>\n",
              "    .colab-df-container {\n",
              "      display:flex;\n",
              "      gap: 12px;\n",
              "    }\n",
              "\n",
              "    .colab-df-convert {\n",
              "      background-color: #E8F0FE;\n",
              "      border: none;\n",
              "      border-radius: 50%;\n",
              "      cursor: pointer;\n",
              "      display: none;\n",
              "      fill: #1967D2;\n",
              "      height: 32px;\n",
              "      padding: 0 0 0 0;\n",
              "      width: 32px;\n",
              "    }\n",
              "\n",
              "    .colab-df-convert:hover {\n",
              "      background-color: #E2EBFA;\n",
              "      box-shadow: 0px 1px 2px rgba(60, 64, 67, 0.3), 0px 1px 3px 1px rgba(60, 64, 67, 0.15);\n",
              "      fill: #174EA6;\n",
              "    }\n",
              "\n",
              "    .colab-df-buttons div {\n",
              "      margin-bottom: 4px;\n",
              "    }\n",
              "\n",
              "    [theme=dark] .colab-df-convert {\n",
              "      background-color: #3B4455;\n",
              "      fill: #D2E3FC;\n",
              "    }\n",
              "\n",
              "    [theme=dark] .colab-df-convert:hover {\n",
              "      background-color: #434B5C;\n",
              "      box-shadow: 0px 1px 3px 1px rgba(0, 0, 0, 0.15);\n",
              "      filter: drop-shadow(0px 1px 2px rgba(0, 0, 0, 0.3));\n",
              "      fill: #FFFFFF;\n",
              "    }\n",
              "  </style>\n",
              "\n",
              "    <script>\n",
              "      const buttonEl =\n",
              "        document.querySelector('#df-844384e2-ab49-4ea9-b72f-16f774ee65d9 button.colab-df-convert');\n",
              "      buttonEl.style.display =\n",
              "        google.colab.kernel.accessAllowed ? 'block' : 'none';\n",
              "\n",
              "      async function convertToInteractive(key) {\n",
              "        const element = document.querySelector('#df-844384e2-ab49-4ea9-b72f-16f774ee65d9');\n",
              "        const dataTable =\n",
              "          await google.colab.kernel.invokeFunction('convertToInteractive',\n",
              "                                                    [key], {});\n",
              "        if (!dataTable) return;\n",
              "\n",
              "        const docLinkHtml = 'Like what you see? Visit the ' +\n",
              "          '<a target=\"_blank\" href=https://colab.research.google.com/notebooks/data_table.ipynb>data table notebook</a>'\n",
              "          + ' to learn more about interactive tables.';\n",
              "        element.innerHTML = '';\n",
              "        dataTable['output_type'] = 'display_data';\n",
              "        await google.colab.output.renderOutput(dataTable, element);\n",
              "        const docLink = document.createElement('div');\n",
              "        docLink.innerHTML = docLinkHtml;\n",
              "        element.appendChild(docLink);\n",
              "      }\n",
              "    </script>\n",
              "  </div>\n",
              "\n",
              "\n",
              "<div id=\"df-08d812de-cd6f-4501-8548-6f74a34b42c5\">\n",
              "  <button class=\"colab-df-quickchart\" onclick=\"quickchart('df-08d812de-cd6f-4501-8548-6f74a34b42c5')\"\n",
              "            title=\"Suggest charts.\"\n",
              "            style=\"display:none;\">\n",
              "\n",
              "<svg xmlns=\"http://www.w3.org/2000/svg\" height=\"24px\"viewBox=\"0 0 24 24\"\n",
              "     width=\"24px\">\n",
              "    <g>\n",
              "        <path d=\"M19 3H5c-1.1 0-2 .9-2 2v14c0 1.1.9 2 2 2h14c1.1 0 2-.9 2-2V5c0-1.1-.9-2-2-2zM9 17H7v-7h2v7zm4 0h-2V7h2v10zm4 0h-2v-4h2v4z\"/>\n",
              "    </g>\n",
              "</svg>\n",
              "  </button>\n",
              "\n",
              "<style>\n",
              "  .colab-df-quickchart {\n",
              "    background-color: #E8F0FE;\n",
              "    border: none;\n",
              "    border-radius: 50%;\n",
              "    cursor: pointer;\n",
              "    display: none;\n",
              "    fill: #1967D2;\n",
              "    height: 32px;\n",
              "    padding: 0 0 0 0;\n",
              "    width: 32px;\n",
              "  }\n",
              "\n",
              "  .colab-df-quickchart:hover {\n",
              "    background-color: #E2EBFA;\n",
              "    box-shadow: 0px 1px 2px rgba(60, 64, 67, 0.3), 0px 1px 3px 1px rgba(60, 64, 67, 0.15);\n",
              "    fill: #174EA6;\n",
              "  }\n",
              "\n",
              "  [theme=dark] .colab-df-quickchart {\n",
              "    background-color: #3B4455;\n",
              "    fill: #D2E3FC;\n",
              "  }\n",
              "\n",
              "  [theme=dark] .colab-df-quickchart:hover {\n",
              "    background-color: #434B5C;\n",
              "    box-shadow: 0px 1px 3px 1px rgba(0, 0, 0, 0.15);\n",
              "    filter: drop-shadow(0px 1px 2px rgba(0, 0, 0, 0.3));\n",
              "    fill: #FFFFFF;\n",
              "  }\n",
              "</style>\n",
              "\n",
              "  <script>\n",
              "    async function quickchart(key) {\n",
              "      const charts = await google.colab.kernel.invokeFunction(\n",
              "          'suggestCharts', [key], {});\n",
              "    }\n",
              "    (() => {\n",
              "      let quickchartButtonEl =\n",
              "        document.querySelector('#df-08d812de-cd6f-4501-8548-6f74a34b42c5 button');\n",
              "      quickchartButtonEl.style.display =\n",
              "        google.colab.kernel.accessAllowed ? 'block' : 'none';\n",
              "    })();\n",
              "  </script>\n",
              "</div>\n",
              "    </div>\n",
              "  </div>\n"
            ]
          },
          "metadata": {},
          "execution_count": 85
        }
      ]
    },
    {
      "cell_type": "code",
      "source": [
        "# categorical data\n",
        "categorical_data = [col for col in df.columns if col in \"O\"\n",
        "                        or df[col].nunique() <=11\n",
        "                        and col not in \"churn\"]\n",
        "\n",
        "categorical_data\n"
      ],
      "metadata": {
        "colab": {
          "base_uri": "https://localhost:8080/"
        },
        "id": "MWTXXpLxrR2w",
        "outputId": "a4351009-604d-42a5-b602-86872fc8174e"
      },
      "id": "MWTXXpLxrR2w",
      "execution_count": 86,
      "outputs": [
        {
          "output_type": "execute_result",
          "data": {
            "text/plain": [
              "['area_code',\n",
              " 'international_plan',\n",
              " 'voice_mail_plan',\n",
              " 'number_customer_service_calls']"
            ]
          },
          "metadata": {},
          "execution_count": 86
        }
      ]
    },
    {
      "cell_type": "code",
      "source": [
        "# Numeric data\n",
        "numeric_data = [col for col in df.columns if df[col].dtype != \"object\"\n",
        "                        and df[col].nunique() >11\n",
        "                    ]\n",
        "numeric_data"
      ],
      "metadata": {
        "colab": {
          "base_uri": "https://localhost:8080/"
        },
        "id": "gVsySwRgsjpD",
        "outputId": "ea2cf2bb-6a47-44ea-a536-0327c022e3ab"
      },
      "id": "gVsySwRgsjpD",
      "execution_count": 87,
      "outputs": [
        {
          "output_type": "execute_result",
          "data": {
            "text/plain": [
              "['account_length',\n",
              " 'number_vmail_messages',\n",
              " 'total_day_minutes',\n",
              " 'total_day_calls',\n",
              " 'total_day_charge',\n",
              " 'total_eve_minutes',\n",
              " 'total_eve_calls',\n",
              " 'total_eve_charge',\n",
              " 'total_night_minutes',\n",
              " 'total_night_calls',\n",
              " 'total_night_charge',\n",
              " 'total_intl_minutes',\n",
              " 'total_intl_calls',\n",
              " 'total_intl_charge']"
            ]
          },
          "metadata": {},
          "execution_count": 87
        }
      ]
    },
    {
      "cell_type": "code",
      "source": [
        "# Number of customers Churn/Not\n",
        "print(df['churn'].value_counts())\n",
        "print()\n",
        "sns.countplot(x='churn',data=df,palette='rainbow')\n",
        "plt.show()"
      ],
      "metadata": {
        "colab": {
          "base_uri": "https://localhost:8080/",
          "height": 518
        },
        "id": "IzAmGg5jvUcc",
        "outputId": "8f8310b5-2a1c-483f-945c-20d769583ac1"
      },
      "id": "IzAmGg5jvUcc",
      "execution_count": 325,
      "outputs": [
        {
          "output_type": "stream",
          "name": "stdout",
          "text": [
            "no     3652\n",
            "yes     598\n",
            "Name: churn, dtype: int64\n",
            "\n"
          ]
        },
        {
          "output_type": "display_data",
          "data": {
            "text/plain": [
              "<Figure size 640x480 with 1 Axes>"
            ],
            "image/png": "[encoded data removed]"
          },
          "metadata": {}
        }
      ]
    },
    {
      "cell_type": "code",
      "source": [
        "#Frequecy of Churn and Not Churn customers according to the Area Code\n",
        "\n",
        "print(f\"Churn:\\n{df[df['churn'] == 'yes']['area_code'].value_counts()}\")\n",
        "print()\n",
        "print(f\"Not Churn:\\n{df[df['churn'] == 'no']['area_code'].value_counts()}\")\n",
        "sns.countplot(x='area_code',hue='churn',data = df,palette='icefire')\n",
        "plt.show()"
      ],
      "metadata": {
        "colab": {
          "base_uri": "https://localhost:8080/",
          "height": 641
        },
        "id": "3Q44qhBEvhtQ",
        "outputId": "b22ef26b-486d-4763-81f5-5410582e0891"
      },
      "id": "3Q44qhBEvhtQ",
      "execution_count": 327,
      "outputs": [
        {
          "output_type": "stream",
          "name": "stdout",
          "text": [
            "Churn:\n",
            "area_code_415    287\n",
            "area_code_510    159\n",
            "area_code_408    152\n",
            "Name: area_code, dtype: int64\n",
            "\n",
            "Not Churn:\n",
            "area_code_415    1821\n",
            "area_code_408     934\n",
            "area_code_510     897\n",
            "Name: area_code, dtype: int64\n"
          ]
        },
        {
          "output_type": "display_data",
          "data": {
            "text/plain": [
              "<Figure size 640x480 with 1 Axes>"
            ],
            "image/png": "[encoded data removed]"
          },
          "metadata": {}
        }
      ]
    },
    {
      "cell_type": "code",
      "source": [
        "#Frequecy of Churn and Not Churn customers according to the International Plan\n",
        "\n",
        "print(f\"Churn:\\n{df[df['churn'] == 'yes']['international_plan'].value_counts()}\")\n",
        "print()\n",
        "print(f\"Not Churn:\\n{df[df['churn'] == 'no']['international_plan'].value_counts()}\")\n",
        "sns.countplot(x='international_plan',hue='churn',data = df , palette = 'coolwarm')\n",
        "plt.show()"
      ],
      "metadata": {
        "colab": {
          "base_uri": "https://localhost:8080/",
          "height": 606
        },
        "id": "oUHMBljYv7_N",
        "outputId": "fa608686-2251-4a53-ce68-f0a8cf44ed93"
      },
      "id": "oUHMBljYv7_N",
      "execution_count": 328,
      "outputs": [
        {
          "output_type": "stream",
          "name": "stdout",
          "text": [
            "Churn:\n",
            "no     431\n",
            "yes    167\n",
            "Name: international_plan, dtype: int64\n",
            "\n",
            "Not Churn:\n",
            "no     3423\n",
            "yes     229\n",
            "Name: international_plan, dtype: int64\n"
          ]
        },
        {
          "output_type": "display_data",
          "data": {
            "text/plain": [
              "<Figure size 640x480 with 1 Axes>"
            ],
            "image/png": "[encoded data removed]"
          },
          "metadata": {}
        }
      ]
    },
    {
      "cell_type": "code",
      "source": [
        "#Frequecy of Churn and Not Churn customers according to the International Plan\n",
        "\n",
        "print(f\"Churn:\\n{df[df['churn'] == 'yes']['voice_mail_plan'].value_counts()}\")\n",
        "print()\n",
        "print(f\"Not Churn:\\n{df[df['churn'] == 'no']['voice_mail_plan'].value_counts()}\")\n",
        "sns.countplot(x='voice_mail_plan',hue='churn',data = df,palette = 'rainbow')\n",
        "plt.show()"
      ],
      "metadata": {
        "colab": {
          "base_uri": "https://localhost:8080/",
          "height": 606
        },
        "id": "utOyX-mWv8DU",
        "outputId": "e63e9408-7040-4a5c-c5db-e915ca522cf9"
      },
      "id": "utOyX-mWv8DU",
      "execution_count": 329,
      "outputs": [
        {
          "output_type": "stream",
          "name": "stdout",
          "text": [
            "Churn:\n",
            "no     516\n",
            "yes     82\n",
            "Name: voice_mail_plan, dtype: int64\n",
            "\n",
            "Not Churn:\n",
            "no     2622\n",
            "yes    1030\n",
            "Name: voice_mail_plan, dtype: int64\n"
          ]
        },
        {
          "output_type": "display_data",
          "data": {
            "text/plain": [
              "<Figure size 640x480 with 1 Axes>"
            ],
            "image/png": "[encoded data removed]"
          },
          "metadata": {}
        }
      ]
    },
    {
      "cell_type": "code",
      "source": [
        "# distribution of the total_day_charge group for Churn\n",
        "sns.histplot(x='total_day_charge',bins = 15 , data = df[df['churn']=='yes'],color = 'red')\n",
        "plt.show()"
      ],
      "metadata": {
        "colab": {
          "base_uri": "https://localhost:8080/",
          "height": 450
        },
        "id": "7jAx6z3bv8G1",
        "outputId": "b3c658d9-7d81-4d4a-d8b4-a3ead056990c"
      },
      "id": "7jAx6z3bv8G1",
      "execution_count": 330,
      "outputs": [
        {
          "output_type": "display_data",
          "data": {
            "text/plain": [
              "<Figure size 640x480 with 1 Axes>"
            ],
            "image/png": "[encoded data removed]"
          },
          "metadata": {}
        }
      ]
    },
    {
      "cell_type": "code",
      "source": [
        "# distribution of the total_day_charge group for Not Churn\n",
        "sns.histplot(x='total_day_charge',bins = 15 , data = df[df['churn']=='no'],color = 'green')\n",
        "plt.show()"
      ],
      "metadata": {
        "colab": {
          "base_uri": "https://localhost:8080/",
          "height": 450
        },
        "id": "dxzSS4L0YWwh",
        "outputId": "2a480f0e-a099-44ac-c8ad-9bb9b1a58bee"
      },
      "id": "dxzSS4L0YWwh",
      "execution_count": 331,
      "outputs": [
        {
          "output_type": "display_data",
          "data": {
            "text/plain": [
              "<Figure size 640x480 with 1 Axes>"
            ],
            "image/png": "[encoded data removed]"
          },
          "metadata": {}
        }
      ]
    },
    {
      "cell_type": "code",
      "source": [
        "# distribution of the total_intl_calls group for Churn\n",
        "sns.histplot(x='total_intl_calls',bins = 15 , data = df[df['churn']=='yes'])\n",
        "plt.show()"
      ],
      "metadata": {
        "colab": {
          "base_uri": "https://localhost:8080/",
          "height": 450
        },
        "id": "1mXlKkU-ya0T",
        "outputId": "76c8d73b-5db2-48f6-ce0b-38d354f6e40d"
      },
      "id": "1mXlKkU-ya0T",
      "execution_count": 94,
      "outputs": [
        {
          "output_type": "display_data",
          "data": {
            "text/plain": [
              "<Figure size 640x480 with 1 Axes>"
            ],
            "image/png": "[encoded data removed]"
          },
          "metadata": {}
        }
      ]
    },
    {
      "cell_type": "code",
      "source": [
        "# distribution of the total_intl_calls group for Not Churn\n",
        "sns.histplot(x='total_intl_calls',bins = 15 , data = df[df['churn']=='no'],color = 'pink')\n",
        "plt.show()"
      ],
      "metadata": {
        "colab": {
          "base_uri": "https://localhost:8080/",
          "height": 450
        },
        "id": "DCgQGFZ0YeVv",
        "outputId": "c1d11f2c-9155-46d2-e5c8-93697a260d3f"
      },
      "id": "DCgQGFZ0YeVv",
      "execution_count": 332,
      "outputs": [
        {
          "output_type": "display_data",
          "data": {
            "text/plain": [
              "<Figure size 640x480 with 1 Axes>"
            ],
            "image/png": "[encoded data removed]"
          },
          "metadata": {}
        }
      ]
    },
    {
      "cell_type": "markdown",
      "source": [
        "# Data Cleaning\n",
        "1. Handlling Missing Values\n",
        "2. Data Transformation\n",
        "3. Feature Enginnering\n",
        "\n",
        "\n"
      ],
      "metadata": {
        "id": "wSJ7DtqIYwvr"
      },
      "id": "wSJ7DtqIYwvr"
    },
    {
      "cell_type": "code",
      "source": [
        "# Missing Values\n",
        "df.isnull().sum()"
      ],
      "metadata": {
        "colab": {
          "base_uri": "https://localhost:8080/"
        },
        "id": "gDCKadNzVMeO",
        "outputId": "329ca9ac-b0c0-450c-fe86-25b51e978aae"
      },
      "id": "gDCKadNzVMeO",
      "execution_count": 96,
      "outputs": [
        {
          "output_type": "execute_result",
          "data": {
            "text/plain": [
              "state                            0\n",
              "account_length                   0\n",
              "area_code                        0\n",
              "international_plan               0\n",
              "voice_mail_plan                  0\n",
              "number_vmail_messages            0\n",
              "total_day_minutes                0\n",
              "total_day_calls                  0\n",
              "total_day_charge                 0\n",
              "total_eve_minutes                0\n",
              "total_eve_calls                  0\n",
              "total_eve_charge                 0\n",
              "total_night_minutes              0\n",
              "total_night_calls                0\n",
              "total_night_charge               0\n",
              "total_intl_minutes               0\n",
              "total_intl_calls                 0\n",
              "total_intl_charge                0\n",
              "number_customer_service_calls    0\n",
              "churn                            0\n",
              "dtype: int64"
            ]
          },
          "metadata": {},
          "execution_count": 96
        }
      ]
    },
    {
      "cell_type": "code",
      "source": [
        "# Data Redundency\n",
        "df.duplicated().sum()"
      ],
      "metadata": {
        "colab": {
          "base_uri": "https://localhost:8080/"
        },
        "id": "pfQ0JSqrVMg1",
        "outputId": "0942ec32-5fbc-4291-c507-219424a2eaa4"
      },
      "id": "pfQ0JSqrVMg1",
      "execution_count": 97,
      "outputs": [
        {
          "output_type": "execute_result",
          "data": {
            "text/plain": [
              "0"
            ]
          },
          "metadata": {},
          "execution_count": 97
        }
      ]
    },
    {
      "cell_type": "code",
      "source": [
        "# Delete the unnecessary column\n",
        "df.drop(['account_length'],axis=1,inplace = True)"
      ],
      "metadata": {
        "id": "mctmpkV16EOh"
      },
      "id": "mctmpkV16EOh",
      "execution_count": 98,
      "outputs": []
    },
    {
      "cell_type": "code",
      "source": [
        "# Categorical to Numeric:\n",
        "def encode_categorical_columns(dataframe, categorical_columns):\n",
        "    df = dataframe.copy()\n",
        "\n",
        "    for col in categorical_columns:\n",
        "        df[col] = df[col].astype('category').cat.codes\n",
        "\n",
        "    return df"
      ],
      "metadata": {
        "id": "otJ_HPGxVMwa"
      },
      "id": "otJ_HPGxVMwa",
      "execution_count": 99,
      "outputs": []
    },
    {
      "cell_type": "code",
      "source": [
        "df_new = encode_categorical_columns(df,categorical_data)"
      ],
      "metadata": {
        "id": "an61VazlSc3Q"
      },
      "id": "an61VazlSc3Q",
      "execution_count": 100,
      "outputs": []
    },
    {
      "cell_type": "code",
      "source": [
        "encoder = LabelEncoder()"
      ],
      "metadata": {
        "id": "8GJpSEgErJP3"
      },
      "id": "8GJpSEgErJP3",
      "execution_count": 101,
      "outputs": []
    },
    {
      "cell_type": "code",
      "source": [
        "df_new['state'] = encoder.fit_transform(df_new['state'])"
      ],
      "metadata": {
        "id": "cHje0OHRqyxz"
      },
      "id": "cHje0OHRqyxz",
      "execution_count": 102,
      "outputs": []
    },
    {
      "cell_type": "code",
      "source": [
        "def impute(x):\n",
        "  if x == 'yes':\n",
        "    return 1\n",
        "  else:\n",
        "    return 0"
      ],
      "metadata": {
        "id": "e2-Iaa7ErHhM"
      },
      "id": "e2-Iaa7ErHhM",
      "execution_count": 103,
      "outputs": []
    },
    {
      "cell_type": "code",
      "source": [
        "df_new['churn'] = df_new['churn'].apply(impute)"
      ],
      "metadata": {
        "id": "QKfr6Y8-rS_h"
      },
      "id": "QKfr6Y8-rS_h",
      "execution_count": 104,
      "outputs": []
    },
    {
      "cell_type": "code",
      "source": [
        "df_new"
      ],
      "metadata": {
        "colab": {
          "base_uri": "https://localhost:8080/",
          "height": 443
        },
        "id": "_SCIJANRrW6u",
        "outputId": "7d7da43a-42c2-4d0e-bdad-c2b2b73d631d"
      },
      "id": "_SCIJANRrW6u",
      "execution_count": 105,
      "outputs": [
        {
          "output_type": "execute_result",
          "data": {
            "text/plain": [
              "      state  area_code  international_plan  voice_mail_plan  \\\n",
              "0        35          1                   0                1   \n",
              "1        31          1                   0                0   \n",
              "2        35          0                   1                0   \n",
              "3        36          1                   1                0   \n",
              "4        19          2                   0                1   \n",
              "...     ...        ...                 ...              ...   \n",
              "4245     26          1                   0                0   \n",
              "4246     49          0                   0                0   \n",
              "4247     27          0                   0                0   \n",
              "4248     11          0                   0                1   \n",
              "4249     46          1                   0                1   \n",
              "\n",
              "      number_vmail_messages  total_day_minutes  total_day_calls  \\\n",
              "0                        26              161.6              123   \n",
              "1                         0              243.4              114   \n",
              "2                         0              299.4               71   \n",
              "3                         0              166.7              113   \n",
              "4                        24              218.2               88   \n",
              "...                     ...                ...              ...   \n",
              "4245                      0              188.3               70   \n",
              "4246                      0              177.9               89   \n",
              "4247                      0              170.7              101   \n",
              "4248                     40              235.7              127   \n",
              "4249                     34              129.4              102   \n",
              "\n",
              "      total_day_charge  total_eve_minutes  total_eve_calls  total_eve_charge  \\\n",
              "0                27.47              195.5              103             16.62   \n",
              "1                41.38              121.2              110             10.30   \n",
              "2                50.90               61.9               88              5.26   \n",
              "3                28.34              148.3              122             12.61   \n",
              "4                37.09              348.5              108             29.62   \n",
              "...                ...                ...              ...               ...   \n",
              "4245             32.01              243.8               88             20.72   \n",
              "4246             30.24              131.2               82             11.15   \n",
              "4247             29.02              193.1              126             16.41   \n",
              "4248             40.07              223.0              126             18.96   \n",
              "4249             22.00              267.1              104             22.70   \n",
              "\n",
              "      total_night_minutes  total_night_calls  total_night_charge  \\\n",
              "0                   254.4                103               11.45   \n",
              "1                   162.6                104                7.32   \n",
              "2                   196.9                 89                8.86   \n",
              "3                   186.9                121                8.41   \n",
              "4                   212.6                118                9.57   \n",
              "...                   ...                ...                 ...   \n",
              "4245                213.7                 79                9.62   \n",
              "4246                186.2                 89                8.38   \n",
              "4247                129.1                104                5.81   \n",
              "4248                297.5                116               13.39   \n",
              "4249                154.8                100                6.97   \n",
              "\n",
              "      total_intl_minutes  total_intl_calls  total_intl_charge  \\\n",
              "0                   13.7                 3               3.70   \n",
              "1                   12.2                 5               3.29   \n",
              "2                    6.6                 7               1.78   \n",
              "3                   10.1                 3               2.73   \n",
              "4                    7.5                 7               2.03   \n",
              "...                  ...               ...                ...   \n",
              "4245                10.3                 6               2.78   \n",
              "4246                11.5                 6               3.11   \n",
              "4247                 6.9                 7               1.86   \n",
              "4248                 9.9                 5               2.67   \n",
              "4249                 9.3                16               2.51   \n",
              "\n",
              "      number_customer_service_calls  churn  \n",
              "0                                 1      0  \n",
              "1                                 0      0  \n",
              "2                                 2      0  \n",
              "3                                 3      0  \n",
              "4                                 3      0  \n",
              "...                             ...    ...  \n",
              "4245                              0      0  \n",
              "4246                              3      0  \n",
              "4247                              1      0  \n",
              "4248                              2      0  \n",
              "4249                              0      0  \n",
              "\n",
              "[4250 rows x 19 columns]"
            ],
            "text/html": [
              "\n",
              "  <div id=\"df-cad06ae7-8eaa-4405-922c-19e8efb92b96\" class=\"colab-df-container\">\n",
              "    <div>\n",
              "<style scoped>\n",
              "    .dataframe tbody tr th:only-of-type {\n",
              "        vertical-align: middle;\n",
              "    }\n",
              "\n",
              "    .dataframe tbody tr th {\n",
              "        vertical-align: top;\n",
              "    }\n",
              "\n",
              "    .dataframe thead th {\n",
              "        text-align: right;\n",
              "    }\n",
              "</style>\n",
              "<table border=\"1\" class=\"dataframe\">\n",
              "  <thead>\n",
              "    <tr style=\"text-align: right;\">\n",
              "      <th></th>\n",
              "      <th>state</th>\n",
              "      <th>area_code</th>\n",
              "      <th>international_plan</th>\n",
              "      <th>voice_mail_plan</th>\n",
              "      <th>number_vmail_messages</th>\n",
              "      <th>total_day_minutes</th>\n",
              "      <th>total_day_calls</th>\n",
              "      <th>total_day_charge</th>\n",
              "      <th>total_eve_minutes</th>\n",
              "      <th>total_eve_calls</th>\n",
              "      <th>total_eve_charge</th>\n",
              "      <th>total_night_minutes</th>\n",
              "      <th>total_night_calls</th>\n",
              "      <th>total_night_charge</th>\n",
              "      <th>total_intl_minutes</th>\n",
              "      <th>total_intl_calls</th>\n",
              "      <th>total_intl_charge</th>\n",
              "      <th>number_customer_service_calls</th>\n",
              "      <th>churn</th>\n",
              "    </tr>\n",
              "  </thead>\n",
              "  <tbody>\n",
              "    <tr>\n",
              "      <th>0</th>\n",
              "      <td>35</td>\n",
              "      <td>1</td>\n",
              "      <td>0</td>\n",
              "      <td>1</td>\n",
              "      <td>26</td>\n",
              "      <td>161.6</td>\n",
              "      <td>123</td>\n",
              "      <td>27.47</td>\n",
              "      <td>195.5</td>\n",
              "      <td>103</td>\n",
              "      <td>16.62</td>\n",
              "      <td>254.4</td>\n",
              "      <td>103</td>\n",
              "      <td>11.45</td>\n",
              "      <td>13.7</td>\n",
              "      <td>3</td>\n",
              "      <td>3.70</td>\n",
              "      <td>1</td>\n",
              "      <td>0</td>\n",
              "    </tr>\n",
              "    <tr>\n",
              "      <th>1</th>\n",
              "      <td>31</td>\n",
              "      <td>1</td>\n",
              "      <td>0</td>\n",
              "      <td>0</td>\n",
              "      <td>0</td>\n",
              "      <td>243.4</td>\n",
              "      <td>114</td>\n",
              "      <td>41.38</td>\n",
              "      <td>121.2</td>\n",
              "      <td>110</td>\n",
              "      <td>10.30</td>\n",
              "      <td>162.6</td>\n",
              "      <td>104</td>\n",
              "      <td>7.32</td>\n",
              "      <td>12.2</td>\n",
              "      <td>5</td>\n",
              "      <td>3.29</td>\n",
              "      <td>0</td>\n",
              "      <td>0</td>\n",
              "    </tr>\n",
              "    <tr>\n",
              "      <th>2</th>\n",
              "      <td>35</td>\n",
              "      <td>0</td>\n",
              "      <td>1</td>\n",
              "      <td>0</td>\n",
              "      <td>0</td>\n",
              "      <td>299.4</td>\n",
              "      <td>71</td>\n",
              "      <td>50.90</td>\n",
              "      <td>61.9</td>\n",
              "      <td>88</td>\n",
              "      <td>5.26</td>\n",
              "      <td>196.9</td>\n",
              "      <td>89</td>\n",
              "      <td>8.86</td>\n",
              "      <td>6.6</td>\n",
              "      <td>7</td>\n",
              "      <td>1.78</td>\n",
              "      <td>2</td>\n",
              "      <td>0</td>\n",
              "    </tr>\n",
              "    <tr>\n",
              "      <th>3</th>\n",
              "      <td>36</td>\n",
              "      <td>1</td>\n",
              "      <td>1</td>\n",
              "      <td>0</td>\n",
              "      <td>0</td>\n",
              "      <td>166.7</td>\n",
              "      <td>113</td>\n",
              "      <td>28.34</td>\n",
              "      <td>148.3</td>\n",
              "      <td>122</td>\n",
              "      <td>12.61</td>\n",
              "      <td>186.9</td>\n",
              "      <td>121</td>\n",
              "      <td>8.41</td>\n",
              "      <td>10.1</td>\n",
              "      <td>3</td>\n",
              "      <td>2.73</td>\n",
              "      <td>3</td>\n",
              "      <td>0</td>\n",
              "    </tr>\n",
              "    <tr>\n",
              "      <th>4</th>\n",
              "      <td>19</td>\n",
              "      <td>2</td>\n",
              "      <td>0</td>\n",
              "      <td>1</td>\n",
              "      <td>24</td>\n",
              "      <td>218.2</td>\n",
              "      <td>88</td>\n",
              "      <td>37.09</td>\n",
              "      <td>348.5</td>\n",
              "      <td>108</td>\n",
              "      <td>29.62</td>\n",
              "      <td>212.6</td>\n",
              "      <td>118</td>\n",
              "      <td>9.57</td>\n",
              "      <td>7.5</td>\n",
              "      <td>7</td>\n",
              "      <td>2.03</td>\n",
              "      <td>3</td>\n",
              "      <td>0</td>\n",
              "    </tr>\n",
              "    <tr>\n",
              "      <th>...</th>\n",
              "      <td>...</td>\n",
              "      <td>...</td>\n",
              "      <td>...</td>\n",
              "      <td>...</td>\n",
              "      <td>...</td>\n",
              "      <td>...</td>\n",
              "      <td>...</td>\n",
              "      <td>...</td>\n",
              "      <td>...</td>\n",
              "      <td>...</td>\n",
              "      <td>...</td>\n",
              "      <td>...</td>\n",
              "      <td>...</td>\n",
              "      <td>...</td>\n",
              "      <td>...</td>\n",
              "      <td>...</td>\n",
              "      <td>...</td>\n",
              "      <td>...</td>\n",
              "      <td>...</td>\n",
              "    </tr>\n",
              "    <tr>\n",
              "      <th>4245</th>\n",
              "      <td>26</td>\n",
              "      <td>1</td>\n",
              "      <td>0</td>\n",
              "      <td>0</td>\n",
              "      <td>0</td>\n",
              "      <td>188.3</td>\n",
              "      <td>70</td>\n",
              "      <td>32.01</td>\n",
              "      <td>243.8</td>\n",
              "      <td>88</td>\n",
              "      <td>20.72</td>\n",
              "      <td>213.7</td>\n",
              "      <td>79</td>\n",
              "      <td>9.62</td>\n",
              "      <td>10.3</td>\n",
              "      <td>6</td>\n",
              "      <td>2.78</td>\n",
              "      <td>0</td>\n",
              "      <td>0</td>\n",
              "    </tr>\n",
              "    <tr>\n",
              "      <th>4246</th>\n",
              "      <td>49</td>\n",
              "      <td>0</td>\n",
              "      <td>0</td>\n",
              "      <td>0</td>\n",
              "      <td>0</td>\n",
              "      <td>177.9</td>\n",
              "      <td>89</td>\n",
              "      <td>30.24</td>\n",
              "      <td>131.2</td>\n",
              "      <td>82</td>\n",
              "      <td>11.15</td>\n",
              "      <td>186.2</td>\n",
              "      <td>89</td>\n",
              "      <td>8.38</td>\n",
              "      <td>11.5</td>\n",
              "      <td>6</td>\n",
              "      <td>3.11</td>\n",
              "      <td>3</td>\n",
              "      <td>0</td>\n",
              "    </tr>\n",
              "    <tr>\n",
              "      <th>4247</th>\n",
              "      <td>27</td>\n",
              "      <td>0</td>\n",
              "      <td>0</td>\n",
              "      <td>0</td>\n",
              "      <td>0</td>\n",
              "      <td>170.7</td>\n",
              "      <td>101</td>\n",
              "      <td>29.02</td>\n",
              "      <td>193.1</td>\n",
              "      <td>126</td>\n",
              "      <td>16.41</td>\n",
              "      <td>129.1</td>\n",
              "      <td>104</td>\n",
              "      <td>5.81</td>\n",
              "      <td>6.9</td>\n",
              "      <td>7</td>\n",
              "      <td>1.86</td>\n",
              "      <td>1</td>\n",
              "      <td>0</td>\n",
              "    </tr>\n",
              "    <tr>\n",
              "      <th>4248</th>\n",
              "      <td>11</td>\n",
              "      <td>0</td>\n",
              "      <td>0</td>\n",
              "      <td>1</td>\n",
              "      <td>40</td>\n",
              "      <td>235.7</td>\n",
              "      <td>127</td>\n",
              "      <td>40.07</td>\n",
              "      <td>223.0</td>\n",
              "      <td>126</td>\n",
              "      <td>18.96</td>\n",
              "      <td>297.5</td>\n",
              "      <td>116</td>\n",
              "      <td>13.39</td>\n",
              "      <td>9.9</td>\n",
              "      <td>5</td>\n",
              "      <td>2.67</td>\n",
              "      <td>2</td>\n",
              "      <td>0</td>\n",
              "    </tr>\n",
              "    <tr>\n",
              "      <th>4249</th>\n",
              "      <td>46</td>\n",
              "      <td>1</td>\n",
              "      <td>0</td>\n",
              "      <td>1</td>\n",
              "      <td>34</td>\n",
              "      <td>129.4</td>\n",
              "      <td>102</td>\n",
              "      <td>22.00</td>\n",
              "      <td>267.1</td>\n",
              "      <td>104</td>\n",
              "      <td>22.70</td>\n",
              "      <td>154.8</td>\n",
              "      <td>100</td>\n",
              "      <td>6.97</td>\n",
              "      <td>9.3</td>\n",
              "      <td>16</td>\n",
              "      <td>2.51</td>\n",
              "      <td>0</td>\n",
              "      <td>0</td>\n",
              "    </tr>\n",
              "  </tbody>\n",
              "</table>\n",
              "<p>4250 rows × 19 columns</p>\n",
              "</div>\n",
              "    <div class=\"colab-df-buttons\">\n",
              "\n",
              "  <div class=\"colab-df-container\">\n",
              "    <button class=\"colab-df-convert\" onclick=\"convertToInteractive('df-cad06ae7-8eaa-4405-922c-19e8efb92b96')\"\n",
              "            title=\"Convert this dataframe to an interactive table.\"\n",
              "            style=\"display:none;\">\n",
              "\n",
              "  <svg xmlns=\"http://www.w3.org/2000/svg\" height=\"24px\" viewBox=\"0 -960 960 960\">\n",
              "    <path d=\"M120-120v-720h720v720H120Zm60-500h600v-160H180v160Zm220 220h160v-160H400v160Zm0 220h160v-160H400v160ZM180-400h160v-160H180v160Zm440 0h160v-160H620v160ZM180-180h160v-160H180v160Zm440 0h160v-160H620v160Z\"/>\n",
              "  </svg>\n",
              "    </button>\n",
              "\n",
              "  <style>\n",
              "    .colab-df-container {\n",
              "      display:flex;\n",
              "      gap: 12px;\n",
              "    }\n",
              "\n",
              "    .colab-df-convert {\n",
              "      background-color: #E8F0FE;\n",
              "      border: none;\n",
              "      border-radius: 50%;\n",
              "      cursor: pointer;\n",
              "      display: none;\n",
              "      fill: #1967D2;\n",
              "      height: 32px;\n",
              "      padding: 0 0 0 0;\n",
              "      width: 32px;\n",
              "    }\n",
              "\n",
              "    .colab-df-convert:hover {\n",
              "      background-color: #E2EBFA;\n",
              "      box-shadow: 0px 1px 2px rgba(60, 64, 67, 0.3), 0px 1px 3px 1px rgba(60, 64, 67, 0.15);\n",
              "      fill: #174EA6;\n",
              "    }\n",
              "\n",
              "    .colab-df-buttons div {\n",
              "      margin-bottom: 4px;\n",
              "    }\n",
              "\n",
              "    [theme=dark] .colab-df-convert {\n",
              "      background-color: #3B4455;\n",
              "      fill: #D2E3FC;\n",
              "    }\n",
              "\n",
              "    [theme=dark] .colab-df-convert:hover {\n",
              "      background-color: #434B5C;\n",
              "      box-shadow: 0px 1px 3px 1px rgba(0, 0, 0, 0.15);\n",
              "      filter: drop-shadow(0px 1px 2px rgba(0, 0, 0, 0.3));\n",
              "      fill: #FFFFFF;\n",
              "    }\n",
              "  </style>\n",
              "\n",
              "    <script>\n",
              "      const buttonEl =\n",
              "        document.querySelector('#df-cad06ae7-8eaa-4405-922c-19e8efb92b96 button.colab-df-convert');\n",
              "      buttonEl.style.display =\n",
              "        google.colab.kernel.accessAllowed ? 'block' : 'none';\n",
              "\n",
              "      async function convertToInteractive(key) {\n",
              "        const element = document.querySelector('#df-cad06ae7-8eaa-4405-922c-19e8efb92b96');\n",
              "        const dataTable =\n",
              "          await google.colab.kernel.invokeFunction('convertToInteractive',\n",
              "                                                    [key], {});\n",
              "        if (!dataTable) return;\n",
              "\n",
              "        const docLinkHtml = 'Like what you see? Visit the ' +\n",
              "          '<a target=\"_blank\" href=https://colab.research.google.com/notebooks/data_table.ipynb>data table notebook</a>'\n",
              "          + ' to learn more about interactive tables.';\n",
              "        element.innerHTML = '';\n",
              "        dataTable['output_type'] = 'display_data';\n",
              "        await google.colab.output.renderOutput(dataTable, element);\n",
              "        const docLink = document.createElement('div');\n",
              "        docLink.innerHTML = docLinkHtml;\n",
              "        element.appendChild(docLink);\n",
              "      }\n",
              "    </script>\n",
              "  </div>\n",
              "\n",
              "\n",
              "<div id=\"df-2fb5c133-5417-41d5-b98e-728007c074d4\">\n",
              "  <button class=\"colab-df-quickchart\" onclick=\"quickchart('df-2fb5c133-5417-41d5-b98e-728007c074d4')\"\n",
              "            title=\"Suggest charts.\"\n",
              "            style=\"display:none;\">\n",
              "\n",
              "<svg xmlns=\"http://www.w3.org/2000/svg\" height=\"24px\"viewBox=\"0 0 24 24\"\n",
              "     width=\"24px\">\n",
              "    <g>\n",
              "        <path d=\"M19 3H5c-1.1 0-2 .9-2 2v14c0 1.1.9 2 2 2h14c1.1 0 2-.9 2-2V5c0-1.1-.9-2-2-2zM9 17H7v-7h2v7zm4 0h-2V7h2v10zm4 0h-2v-4h2v4z\"/>\n",
              "    </g>\n",
              "</svg>\n",
              "  </button>\n",
              "\n",
              "<style>\n",
              "  .colab-df-quickchart {\n",
              "    background-color: #E8F0FE;\n",
              "    border: none;\n",
              "    border-radius: 50%;\n",
              "    cursor: pointer;\n",
              "    display: none;\n",
              "    fill: #1967D2;\n",
              "    height: 32px;\n",
              "    padding: 0 0 0 0;\n",
              "    width: 32px;\n",
              "  }\n",
              "\n",
              "  .colab-df-quickchart:hover {\n",
              "    background-color: #E2EBFA;\n",
              "    box-shadow: 0px 1px 2px rgba(60, 64, 67, 0.3), 0px 1px 3px 1px rgba(60, 64, 67, 0.15);\n",
              "    fill: #174EA6;\n",
              "  }\n",
              "\n",
              "  [theme=dark] .colab-df-quickchart {\n",
              "    background-color: #3B4455;\n",
              "    fill: #D2E3FC;\n",
              "  }\n",
              "\n",
              "  [theme=dark] .colab-df-quickchart:hover {\n",
              "    background-color: #434B5C;\n",
              "    box-shadow: 0px 1px 3px 1px rgba(0, 0, 0, 0.15);\n",
              "    filter: drop-shadow(0px 1px 2px rgba(0, 0, 0, 0.3));\n",
              "    fill: #FFFFFF;\n",
              "  }\n",
              "</style>\n",
              "\n",
              "  <script>\n",
              "    async function quickchart(key) {\n",
              "      const charts = await google.colab.kernel.invokeFunction(\n",
              "          'suggestCharts', [key], {});\n",
              "    }\n",
              "    (() => {\n",
              "      let quickchartButtonEl =\n",
              "        document.querySelector('#df-2fb5c133-5417-41d5-b98e-728007c074d4 button');\n",
              "      quickchartButtonEl.style.display =\n",
              "        google.colab.kernel.accessAllowed ? 'block' : 'none';\n",
              "    })();\n",
              "  </script>\n",
              "</div>\n",
              "    </div>\n",
              "  </div>\n"
            ]
          },
          "metadata": {},
          "execution_count": 105
        }
      ]
    },
    {
      "cell_type": "markdown",
      "source": [
        "# **Outliers**\n",
        "\n",
        "**Outliers can sometimes carry valuable information, especially in projects like customer churn prediction. Outliers might represent unusual or significant customer behaviors that could be indicative of potential churn. Therefore, in certain cases, removing outliers might lead to the loss of important insights.**\n",
        "\n",
        "**We Keep the outliers for further processing**"
      ],
      "metadata": {
        "id": "UllCXJW1KO6T"
      },
      "id": "UllCXJW1KO6T"
    },
    {
      "cell_type": "code",
      "source": [
        "X = df_new.iloc[:,0:-1].values\n",
        "y = df_new.iloc[:,-1].values"
      ],
      "metadata": {
        "id": "oWctRnT9sHrl"
      },
      "id": "oWctRnT9sHrl",
      "execution_count": 334,
      "outputs": []
    },
    {
      "cell_type": "code",
      "source": [
        "# Our Dataset contains  Imbalanced  classes . We Will Use Oversampling Method Using Synthetic Minority Over-sampling Technique\n",
        "smote = SMOTE(random_state=101, sampling_strategy='minority')"
      ],
      "metadata": {
        "id": "UW4Ht1FS8awW"
      },
      "id": "UW4Ht1FS8awW",
      "execution_count": 285,
      "outputs": []
    },
    {
      "cell_type": "code",
      "source": [
        "X_resampled , y_resampled = smote.fit_resample(X,y)"
      ],
      "metadata": {
        "id": "eTtIGn-O86Qg"
      },
      "id": "eTtIGn-O86Qg",
      "execution_count": 286,
      "outputs": []
    },
    {
      "cell_type": "code",
      "source": [
        "y_resampled_0 = [value for value in y_resampled if value == 0]\n",
        "y_resampled_1 = [value for value in y_resampled if value == 1]\n",
        "len(y_resampled_0) , len(y_resampled_1)"
      ],
      "metadata": {
        "colab": {
          "base_uri": "https://localhost:8080/"
        },
        "id": "Xjx_rwl-86VS",
        "outputId": "8ff64442-d395-4e0d-af39-fddf87c1fdc2"
      },
      "id": "Xjx_rwl-86VS",
      "execution_count": 287,
      "outputs": [
        {
          "output_type": "execute_result",
          "data": {
            "text/plain": [
              "(3652, 3652)"
            ]
          },
          "metadata": {},
          "execution_count": 287
        }
      ]
    },
    {
      "cell_type": "code",
      "source": [
        "# Now Our Classes are balanced"
      ],
      "metadata": {
        "id": "IAWJbc6A9lPP"
      },
      "id": "IAWJbc6A9lPP",
      "execution_count": 288,
      "outputs": []
    },
    {
      "cell_type": "code",
      "source": [
        " X_train, X_test, y_train, y_test = train_test_split(X_resampled, y_resampled, test_size=0.2, random_state=420)"
      ],
      "metadata": {
        "id": "xFad30mSsH9k"
      },
      "id": "xFad30mSsH9k",
      "execution_count": 289,
      "outputs": []
    },
    {
      "cell_type": "code",
      "source": [
        "# Feature Scaling\n",
        "scaler = StandardScaler()"
      ],
      "metadata": {
        "id": "YYxiIxQmreTc"
      },
      "id": "YYxiIxQmreTc",
      "execution_count": 290,
      "outputs": []
    },
    {
      "cell_type": "code",
      "source": [
        "X_train_scaled = scaler.fit_transform(X_train)\n",
        "X_test_scaled = scaler.transform(X_test)"
      ],
      "metadata": {
        "id": "uH3u1wlDr1x1"
      },
      "id": "uH3u1wlDr1x1",
      "execution_count": 291,
      "outputs": []
    },
    {
      "cell_type": "code",
      "source": [],
      "metadata": {
        "id": "1YXtsnApK9zt"
      },
      "id": "1YXtsnApK9zt",
      "execution_count": null,
      "outputs": []
    },
    {
      "cell_type": "markdown",
      "source": [
        "# **Deep Neural Netowrk**"
      ],
      "metadata": {
        "id": "didtq7u3LCyz"
      },
      "id": "didtq7u3LCyz"
    },
    {
      "cell_type": "code",
      "source": [
        "# Model Building\n",
        "\n",
        "model = Sequential()\n",
        "model.add(Dense(18,activation='relu',input_dim=18,kernel_regularizer=l2(0.01)))\n",
        "model.add(Dense(18,activation='relu',kernel_regularizer=l2(0.01)))\n",
        "model.add(Dense(18,activation='relu',kernel_regularizer=l2(0.01)))\n",
        "model.add(Dense(9,activation=\"relu\"))\n",
        "\n",
        "model.add(Dense(1,activation='sigmoid'))  # OutPut Layer"
      ],
      "metadata": {
        "id": "mWf9YAjosq80"
      },
      "id": "mWf9YAjosq80",
      "execution_count": 293,
      "outputs": []
    },
    {
      "cell_type": "code",
      "source": [
        "model.summary()"
      ],
      "metadata": {
        "id": "6-34qHcFtLbX",
        "colab": {
          "base_uri": "https://localhost:8080/"
        },
        "outputId": "35ff8aed-189d-4b4f-9363-d956e0f3cabd"
      },
      "id": "6-34qHcFtLbX",
      "execution_count": 294,
      "outputs": [
        {
          "output_type": "stream",
          "name": "stdout",
          "text": [
            "Model: \"sequential_9\"\n",
            "_________________________________________________________________\n",
            " Layer (type)                Output Shape              Param #   \n",
            "=================================================================\n",
            " dense_35 (Dense)            (None, 18)                342       \n",
            "                                                                 \n",
            " dense_36 (Dense)            (None, 18)                342       \n",
            "                                                                 \n",
            " dense_37 (Dense)            (None, 18)                342       \n",
            "                                                                 \n",
            " dense_38 (Dense)            (None, 9)                 171       \n",
            "                                                                 \n",
            " dense_39 (Dense)            (None, 1)                 10        \n",
            "                                                                 \n",
            "=================================================================\n",
            "Total params: 1,207\n",
            "Trainable params: 1,207\n",
            "Non-trainable params: 0\n",
            "_________________________________________________________________\n"
          ]
        }
      ]
    },
    {
      "cell_type": "code",
      "source": [
        "model.compile(optimizer='Adam',loss='binary_crossentropy')\n"
      ],
      "metadata": {
        "id": "Y3guPHMOtOjg"
      },
      "id": "Y3guPHMOtOjg",
      "execution_count": 295,
      "outputs": []
    },
    {
      "cell_type": "code",
      "source": [
        "history = model.fit(X_train_scaled,y_train,epochs=100,validation_split=0.2)\n",
        "y_pred = model.predict(X_test_scaled)\n",
        "y_preds = np.round(y_pred)"
      ],
      "metadata": {
        "colab": {
          "base_uri": "https://localhost:8080/"
        },
        "id": "YCPK26zotSVc",
        "outputId": "ee04f06a-e014-455a-b828-b52e388a8234"
      },
      "id": "YCPK26zotSVc",
      "execution_count": 296,
      "outputs": [
        {
          "output_type": "stream",
          "name": "stdout",
          "text": [
            "Epoch 1/100\n",
            "147/147 [==============================] - 2s 4ms/step - loss: 1.0158 - val_loss: 0.8000\n",
            "Epoch 2/100\n",
            "147/147 [==============================] - 0s 3ms/step - loss: 0.6706 - val_loss: 0.5902\n",
            "Epoch 3/100\n",
            "147/147 [==============================] - 0s 3ms/step - loss: 0.5360 - val_loss: 0.5195\n",
            "Epoch 4/100\n",
            "147/147 [==============================] - 0s 3ms/step - loss: 0.4816 - val_loss: 0.4820\n",
            "Epoch 5/100\n",
            "147/147 [==============================] - 0s 3ms/step - loss: 0.4513 - val_loss: 0.4590\n",
            "Epoch 6/100\n",
            "147/147 [==============================] - 1s 4ms/step - loss: 0.4272 - val_loss: 0.4411\n",
            "Epoch 7/100\n",
            "147/147 [==============================] - 1s 6ms/step - loss: 0.4124 - val_loss: 0.4283\n",
            "Epoch 8/100\n",
            "147/147 [==============================] - 1s 5ms/step - loss: 0.3998 - val_loss: 0.4270\n",
            "Epoch 9/100\n",
            "147/147 [==============================] - 1s 5ms/step - loss: 0.3911 - val_loss: 0.4079\n",
            "Epoch 10/100\n",
            "147/147 [==============================] - 1s 4ms/step - loss: 0.3777 - val_loss: 0.4001\n",
            "Epoch 11/100\n",
            "147/147 [==============================] - 0s 3ms/step - loss: 0.3678 - val_loss: 0.4001\n",
            "Epoch 12/100\n",
            "147/147 [==============================] - 0s 3ms/step - loss: 0.3627 - val_loss: 0.3945\n",
            "Epoch 13/100\n",
            "147/147 [==============================] - 0s 3ms/step - loss: 0.3579 - val_loss: 0.3818\n",
            "Epoch 14/100\n",
            "147/147 [==============================] - 0s 3ms/step - loss: 0.3480 - val_loss: 0.3743\n",
            "Epoch 15/100\n",
            "147/147 [==============================] - 0s 3ms/step - loss: 0.3382 - val_loss: 0.3646\n",
            "Epoch 16/100\n",
            "147/147 [==============================] - 0s 3ms/step - loss: 0.3324 - val_loss: 0.3658\n",
            "Epoch 17/100\n",
            "147/147 [==============================] - 0s 3ms/step - loss: 0.3263 - val_loss: 0.3638\n",
            "Epoch 18/100\n",
            "147/147 [==============================] - 0s 3ms/step - loss: 0.3206 - val_loss: 0.3450\n",
            "Epoch 19/100\n",
            "147/147 [==============================] - 0s 3ms/step - loss: 0.3127 - val_loss: 0.3581\n",
            "Epoch 20/100\n",
            "147/147 [==============================] - 0s 3ms/step - loss: 0.3112 - val_loss: 0.3436\n",
            "Epoch 21/100\n",
            "147/147 [==============================] - 0s 3ms/step - loss: 0.3079 - val_loss: 0.3558\n",
            "Epoch 22/100\n",
            "147/147 [==============================] - 0s 3ms/step - loss: 0.3006 - val_loss: 0.3484\n",
            "Epoch 23/100\n",
            "147/147 [==============================] - 0s 3ms/step - loss: 0.2978 - val_loss: 0.3389\n",
            "Epoch 24/100\n",
            "147/147 [==============================] - 1s 4ms/step - loss: 0.2902 - val_loss: 0.3311\n",
            "Epoch 25/100\n",
            "147/147 [==============================] - 1s 3ms/step - loss: 0.2871 - val_loss: 0.3430\n",
            "Epoch 26/100\n",
            "147/147 [==============================] - 1s 3ms/step - loss: 0.2937 - val_loss: 0.3358\n",
            "Epoch 27/100\n",
            "147/147 [==============================] - 1s 5ms/step - loss: 0.2813 - val_loss: 0.3326\n",
            "Epoch 28/100\n",
            "147/147 [==============================] - 1s 6ms/step - loss: 0.2788 - val_loss: 0.3194\n",
            "Epoch 29/100\n",
            "147/147 [==============================] - 1s 6ms/step - loss: 0.2741 - val_loss: 0.3461\n",
            "Epoch 30/100\n",
            "147/147 [==============================] - 1s 7ms/step - loss: 0.2734 - val_loss: 0.3129\n",
            "Epoch 31/100\n",
            "147/147 [==============================] - 1s 9ms/step - loss: 0.2701 - val_loss: 0.3209\n",
            "Epoch 32/100\n",
            "147/147 [==============================] - 1s 8ms/step - loss: 0.2658 - val_loss: 0.3401\n",
            "Epoch 33/100\n",
            "147/147 [==============================] - 1s 4ms/step - loss: 0.2642 - val_loss: 0.3215\n",
            "Epoch 34/100\n",
            "147/147 [==============================] - 0s 3ms/step - loss: 0.2599 - val_loss: 0.3076\n",
            "Epoch 35/100\n",
            "147/147 [==============================] - 0s 3ms/step - loss: 0.2547 - val_loss: 0.3181\n",
            "Epoch 36/100\n",
            "147/147 [==============================] - 0s 3ms/step - loss: 0.2721 - val_loss: 0.3037\n",
            "Epoch 37/100\n",
            "147/147 [==============================] - 0s 3ms/step - loss: 0.2535 - val_loss: 0.3001\n",
            "Epoch 38/100\n",
            "147/147 [==============================] - 0s 3ms/step - loss: 0.2456 - val_loss: 0.3116\n",
            "Epoch 39/100\n",
            "147/147 [==============================] - 0s 3ms/step - loss: 0.2496 - val_loss: 0.2986\n",
            "Epoch 40/100\n",
            "147/147 [==============================] - 0s 3ms/step - loss: 0.2467 - val_loss: 0.2991\n",
            "Epoch 41/100\n",
            "147/147 [==============================] - 0s 3ms/step - loss: 0.2484 - val_loss: 0.2950\n",
            "Epoch 42/100\n",
            "147/147 [==============================] - 0s 3ms/step - loss: 0.2500 - val_loss: 0.2997\n",
            "Epoch 43/100\n",
            "147/147 [==============================] - 0s 3ms/step - loss: 0.2553 - val_loss: 0.3094\n",
            "Epoch 44/100\n",
            "147/147 [==============================] - 0s 3ms/step - loss: 0.2373 - val_loss: 0.2897\n",
            "Epoch 45/100\n",
            "147/147 [==============================] - 0s 3ms/step - loss: 0.2379 - val_loss: 0.2935\n",
            "Epoch 46/100\n",
            "147/147 [==============================] - 0s 3ms/step - loss: 0.2326 - val_loss: 0.2936\n",
            "Epoch 47/100\n",
            "147/147 [==============================] - 0s 3ms/step - loss: 0.2357 - val_loss: 0.3104\n",
            "Epoch 48/100\n",
            "147/147 [==============================] - 1s 4ms/step - loss: 0.2352 - val_loss: 0.3113\n",
            "Epoch 49/100\n",
            "147/147 [==============================] - 0s 3ms/step - loss: 0.2371 - val_loss: 0.2959\n",
            "Epoch 50/100\n",
            "147/147 [==============================] - 1s 3ms/step - loss: 0.2343 - val_loss: 0.2986\n",
            "Epoch 51/100\n",
            "147/147 [==============================] - 0s 3ms/step - loss: 0.2312 - val_loss: 0.2895\n",
            "Epoch 52/100\n",
            "147/147 [==============================] - 0s 3ms/step - loss: 0.2297 - val_loss: 0.2946\n",
            "Epoch 53/100\n",
            "147/147 [==============================] - 0s 3ms/step - loss: 0.2267 - val_loss: 0.2895\n",
            "Epoch 54/100\n",
            "147/147 [==============================] - 1s 4ms/step - loss: 0.2276 - val_loss: 0.3285\n",
            "Epoch 55/100\n",
            "147/147 [==============================] - 1s 5ms/step - loss: 0.2271 - val_loss: 0.2802\n",
            "Epoch 56/100\n",
            "147/147 [==============================] - 1s 5ms/step - loss: 0.2260 - val_loss: 0.2920\n",
            "Epoch 57/100\n",
            "147/147 [==============================] - 1s 6ms/step - loss: 0.2259 - val_loss: 0.2753\n",
            "Epoch 58/100\n",
            "147/147 [==============================] - 1s 4ms/step - loss: 0.2327 - val_loss: 0.3254\n",
            "Epoch 59/100\n",
            "147/147 [==============================] - 0s 3ms/step - loss: 0.2218 - val_loss: 0.2971\n",
            "Epoch 60/100\n",
            "147/147 [==============================] - 0s 3ms/step - loss: 0.2224 - val_loss: 0.2862\n",
            "Epoch 61/100\n",
            "147/147 [==============================] - 0s 3ms/step - loss: 0.2193 - val_loss: 0.2977\n",
            "Epoch 62/100\n",
            "147/147 [==============================] - 0s 3ms/step - loss: 0.2178 - val_loss: 0.2927\n",
            "Epoch 63/100\n",
            "147/147 [==============================] - 0s 3ms/step - loss: 0.2176 - val_loss: 0.2834\n",
            "Epoch 64/100\n",
            "147/147 [==============================] - 0s 3ms/step - loss: 0.2192 - val_loss: 0.2749\n",
            "Epoch 65/100\n",
            "147/147 [==============================] - 1s 4ms/step - loss: 0.2139 - val_loss: 0.2989\n",
            "Epoch 66/100\n",
            "147/147 [==============================] - 1s 4ms/step - loss: 0.2156 - val_loss: 0.2863\n",
            "Epoch 67/100\n",
            "147/147 [==============================] - 0s 3ms/step - loss: 0.2172 - val_loss: 0.2771\n",
            "Epoch 68/100\n",
            "147/147 [==============================] - 0s 3ms/step - loss: 0.2077 - val_loss: 0.2900\n",
            "Epoch 69/100\n",
            "147/147 [==============================] - 0s 3ms/step - loss: 0.2134 - val_loss: 0.2890\n",
            "Epoch 70/100\n",
            "147/147 [==============================] - 0s 3ms/step - loss: 0.2129 - val_loss: 0.2881\n",
            "Epoch 71/100\n",
            "147/147 [==============================] - 0s 3ms/step - loss: 0.2109 - val_loss: 0.3476\n",
            "Epoch 72/100\n",
            "147/147 [==============================] - 0s 3ms/step - loss: 0.2088 - val_loss: 0.2957\n",
            "Epoch 73/100\n",
            "147/147 [==============================] - 0s 3ms/step - loss: 0.2123 - val_loss: 0.3143\n",
            "Epoch 74/100\n",
            "147/147 [==============================] - 0s 3ms/step - loss: 0.2061 - val_loss: 0.2916\n",
            "Epoch 75/100\n",
            "147/147 [==============================] - 0s 3ms/step - loss: 0.2187 - val_loss: 0.3109\n",
            "Epoch 76/100\n",
            "147/147 [==============================] - 0s 3ms/step - loss: 0.2023 - val_loss: 0.2983\n",
            "Epoch 77/100\n",
            "147/147 [==============================] - 0s 3ms/step - loss: 0.2100 - val_loss: 0.3120\n",
            "Epoch 78/100\n",
            "147/147 [==============================] - 0s 3ms/step - loss: 0.2110 - val_loss: 0.3472\n",
            "Epoch 79/100\n",
            "147/147 [==============================] - 0s 3ms/step - loss: 0.2043 - val_loss: 0.3104\n",
            "Epoch 80/100\n",
            "147/147 [==============================] - 0s 3ms/step - loss: 0.2060 - val_loss: 0.2778\n",
            "Epoch 81/100\n",
            "147/147 [==============================] - 1s 4ms/step - loss: 0.1977 - val_loss: 0.3260\n",
            "Epoch 82/100\n",
            "147/147 [==============================] - 1s 5ms/step - loss: 0.1967 - val_loss: 0.2998\n",
            "Epoch 83/100\n",
            "147/147 [==============================] - 1s 4ms/step - loss: 0.2044 - val_loss: 0.2795\n",
            "Epoch 84/100\n",
            "147/147 [==============================] - 1s 4ms/step - loss: 0.2032 - val_loss: 0.2955\n",
            "Epoch 85/100\n",
            "147/147 [==============================] - 0s 3ms/step - loss: 0.1950 - val_loss: 0.2976\n",
            "Epoch 86/100\n",
            "147/147 [==============================] - 0s 3ms/step - loss: 0.1993 - val_loss: 0.3085\n",
            "Epoch 87/100\n",
            "147/147 [==============================] - 0s 3ms/step - loss: 0.1922 - val_loss: 0.2873\n",
            "Epoch 88/100\n",
            "147/147 [==============================] - 0s 3ms/step - loss: 0.2040 - val_loss: 0.2876\n",
            "Epoch 89/100\n",
            "147/147 [==============================] - 0s 3ms/step - loss: 0.2237 - val_loss: 0.2846\n",
            "Epoch 90/100\n",
            "147/147 [==============================] - 0s 3ms/step - loss: 0.1942 - val_loss: 0.2770\n",
            "Epoch 91/100\n",
            "147/147 [==============================] - 0s 3ms/step - loss: 0.2030 - val_loss: 0.2820\n",
            "Epoch 92/100\n",
            "147/147 [==============================] - 0s 3ms/step - loss: 0.1888 - val_loss: 0.2768\n",
            "Epoch 93/100\n",
            "147/147 [==============================] - 0s 3ms/step - loss: 0.1940 - val_loss: 0.2922\n",
            "Epoch 94/100\n",
            "147/147 [==============================] - 0s 3ms/step - loss: 0.1924 - val_loss: 0.2956\n",
            "Epoch 95/100\n",
            "147/147 [==============================] - 0s 3ms/step - loss: 0.1955 - val_loss: 0.2802\n",
            "Epoch 96/100\n",
            "147/147 [==============================] - 0s 3ms/step - loss: 0.1863 - val_loss: 0.2978\n",
            "Epoch 97/100\n",
            "147/147 [==============================] - 0s 3ms/step - loss: 0.1946 - val_loss: 0.2970\n",
            "Epoch 98/100\n",
            "147/147 [==============================] - 0s 3ms/step - loss: 0.1923 - val_loss: 0.2917\n",
            "Epoch 99/100\n",
            "147/147 [==============================] - 0s 3ms/step - loss: 0.1855 - val_loss: 0.3351\n",
            "Epoch 100/100\n",
            "147/147 [==============================] - 0s 3ms/step - loss: 0.1884 - val_loss: 0.2761\n",
            "46/46 [==============================] - 0s 1ms/step\n"
          ]
        }
      ]
    },
    {
      "cell_type": "code",
      "source": [
        "plt.plot(history.history['loss'])\n",
        "plt.plot(history.history['val_loss'])"
      ],
      "metadata": {
        "id": "PEBbtiGRuC8g",
        "colab": {
          "base_uri": "https://localhost:8080/",
          "height": 447
        },
        "outputId": "686cceca-46b1-41b2-d7dc-95dc267be898"
      },
      "id": "PEBbtiGRuC8g",
      "execution_count": 297,
      "outputs": [
        {
          "output_type": "execute_result",
          "data": {
            "text/plain": [
              "[<matplotlib.lines.Line2D at 0x7d76205ce710>]"
            ]
          },
          "metadata": {},
          "execution_count": 297
        },
        {
          "output_type": "display_data",
          "data": {
            "text/plain": [
              "<Figure size 640x480 with 1 Axes>"
            ],
            "image/png": "[encoded data removed]"
          },
          "metadata": {}
        }
      ]
    },
    {
      "cell_type": "code",
      "source": [
        "from sklearn.metrics import classification_report , confusion_matrix"
      ],
      "metadata": {
        "id": "2TQjXh8uvvaz"
      },
      "id": "2TQjXh8uvvaz",
      "execution_count": 298,
      "outputs": []
    },
    {
      "cell_type": "code",
      "source": [
        "print(classification_report(y_test,y_preds))"
      ],
      "metadata": {
        "colab": {
          "base_uri": "https://localhost:8080/"
        },
        "id": "qtmZ8QI0_2F3",
        "outputId": "a2e74bf3-ad06-43c7-c586-bbc32fd94cb1"
      },
      "id": "qtmZ8QI0_2F3",
      "execution_count": 299,
      "outputs": [
        {
          "output_type": "stream",
          "name": "stdout",
          "text": [
            "              precision    recall  f1-score   support\n",
            "\n",
            "           0       0.92      0.94      0.93       712\n",
            "           1       0.94      0.92      0.93       749\n",
            "\n",
            "    accuracy                           0.93      1461\n",
            "   macro avg       0.93      0.93      0.93      1461\n",
            "weighted avg       0.93      0.93      0.93      1461\n",
            "\n"
          ]
        }
      ]
    },
    {
      "cell_type": "code",
      "source": [
        "confusion_matrix(y_test,y_preds)"
      ],
      "metadata": {
        "colab": {
          "base_uri": "https://localhost:8080/"
        },
        "id": "fh0SoYFK8MQc",
        "outputId": "0793845d-3b37-4bbd-a8de-d3bb4aa40c9c"
      },
      "id": "fh0SoYFK8MQc",
      "execution_count": 300,
      "outputs": [
        {
          "output_type": "execute_result",
          "data": {
            "text/plain": [
              "array([[666,  46],\n",
              "       [ 61, 688]])"
            ]
          },
          "metadata": {},
          "execution_count": 300
        }
      ]
    },
    {
      "cell_type": "code",
      "source": [],
      "metadata": {
        "id": "3MSLzmdWLPy1"
      },
      "id": "3MSLzmdWLPy1",
      "execution_count": null,
      "outputs": []
    },
    {
      "cell_type": "markdown",
      "source": [
        "# **Random Forest**"
      ],
      "metadata": {
        "id": "ok7hcOdbLQUx"
      },
      "id": "ok7hcOdbLQUx"
    },
    {
      "cell_type": "code",
      "source": [
        "from sklearn.ensemble import RandomForestClassifier"
      ],
      "metadata": {
        "id": "rAVLUggN_pLU"
      },
      "id": "rAVLUggN_pLU",
      "execution_count": 301,
      "outputs": []
    },
    {
      "cell_type": "code",
      "source": [
        "rf = RandomForestClassifier(max_depth=20,max_features=4,n_estimators=100,random_state = 101)"
      ],
      "metadata": {
        "id": "_v822WANCpuR"
      },
      "id": "_v822WANCpuR",
      "execution_count": 316,
      "outputs": []
    },
    {
      "cell_type": "code",
      "source": [
        "rf.fit(X_train_scaled , y_train)"
      ],
      "metadata": {
        "colab": {
          "base_uri": "https://localhost:8080/",
          "height": 74
        },
        "id": "P8R-0W3NCsjw",
        "outputId": "365245cd-c258-495e-a648-27594f8f5ef1"
      },
      "id": "P8R-0W3NCsjw",
      "execution_count": 317,
      "outputs": [
        {
          "output_type": "execute_result",
          "data": {
            "text/plain": [
              "RandomForestClassifier(max_depth=20, max_features=4, random_state=101)"
            ],
            "text/html": [
              "<style>#sk-container-id-21 {color: black;background-color: white;}#sk-container-id-21 pre{padding: 0;}#sk-container-id-21 div.sk-toggleable {background-color: white;}#sk-container-id-21 label.sk-toggleable__label {cursor: pointer;display: block;width: 100%;margin-bottom: 0;padding: 0.3em;box-sizing: border-box;text-align: center;}#sk-container-id-21 label.sk-toggleable__label-arrow:before {content: \"▸\";float: left;margin-right: 0.25em;color: #696969;}#sk-container-id-21 label.sk-toggleable__label-arrow:hover:before {color: black;}#sk-container-id-21 div.sk-estimator:hover label.sk-toggleable__label-arrow:before {color: black;}#sk-container-id-21 div.sk-toggleable__content {max-height: 0;max-width: 0;overflow: hidden;text-align: left;background-color: #f0f8ff;}#sk-container-id-21 div.sk-toggleable__content pre {margin: 0.2em;color: black;border-radius: 0.25em;background-color: #f0f8ff;}#sk-container-id-21 input.sk-toggleable__control:checked~div.sk-toggleable__content {max-height: 200px;max-width: 100%;overflow: auto;}#sk-container-id-21 input.sk-toggleable__control:checked~label.sk-toggleable__label-arrow:before {content: \"▾\";}#sk-container-id-21 div.sk-estimator input.sk-toggleable__control:checked~label.sk-toggleable__label {background-color: #d4ebff;}#sk-container-id-21 div.sk-label input.sk-toggleable__control:checked~label.sk-toggleable__label {background-color: #d4ebff;}#sk-container-id-21 input.sk-hidden--visually {border: 0;clip: rect(1px 1px 1px 1px);clip: rect(1px, 1px, 1px, 1px);height: 1px;margin: -1px;overflow: hidden;padding: 0;position: absolute;width: 1px;}#sk-container-id-21 div.sk-estimator {font-family: monospace;background-color: #f0f8ff;border: 1px dotted black;border-radius: 0.25em;box-sizing: border-box;margin-bottom: 0.5em;}#sk-container-id-21 div.sk-estimator:hover {background-color: #d4ebff;}#sk-container-id-21 div.sk-parallel-item::after {content: \"\";width: 100%;border-bottom: 1px solid gray;flex-grow: 1;}#sk-container-id-21 div.sk-label:hover label.sk-toggleable__label {background-color: #d4ebff;}#sk-container-id-21 div.sk-serial::before {content: \"\";position: absolute;border-left: 1px solid gray;box-sizing: border-box;top: 0;bottom: 0;left: 50%;z-index: 0;}#sk-container-id-21 div.sk-serial {display: flex;flex-direction: column;align-items: center;background-color: white;padding-right: 0.2em;padding-left: 0.2em;position: relative;}#sk-container-id-21 div.sk-item {position: relative;z-index: 1;}#sk-container-id-21 div.sk-parallel {display: flex;align-items: stretch;justify-content: center;background-color: white;position: relative;}#sk-container-id-21 div.sk-item::before, #sk-container-id-21 div.sk-parallel-item::before {content: \"\";position: absolute;border-left: 1px solid gray;box-sizing: border-box;top: 0;bottom: 0;left: 50%;z-index: -1;}#sk-container-id-21 div.sk-parallel-item {display: flex;flex-direction: column;z-index: 1;position: relative;background-color: white;}#sk-container-id-21 div.sk-parallel-item:first-child::after {align-self: flex-end;width: 50%;}#sk-container-id-21 div.sk-parallel-item:last-child::after {align-self: flex-start;width: 50%;}#sk-container-id-21 div.sk-parallel-item:only-child::after {width: 0;}#sk-container-id-21 div.sk-dashed-wrapped {border: 1px dashed gray;margin: 0 0.4em 0.5em 0.4em;box-sizing: border-box;padding-bottom: 0.4em;background-color: white;}#sk-container-id-21 div.sk-label label {font-family: monospace;font-weight: bold;display: inline-block;line-height: 1.2em;}#sk-container-id-21 div.sk-label-container {text-align: center;}#sk-container-id-21 div.sk-container {/* jupyter's `normalize.less` sets `[hidden] { display: none; }` but bootstrap.min.css set `[hidden] { display: none !important; }` so we also need the `!important` here to be able to override the default hidden behavior on the sphinx rendered scikit-learn.org. See: https://github.com/scikit-learn/scikit-learn/issues/21755 */display: inline-block !important;position: relative;}#sk-container-id-21 div.sk-text-repr-fallback {display: none;}</style><div id=\"sk-container-id-21\" class=\"sk-top-container\"><div class=\"sk-text-repr-fallback\"><pre>RandomForestClassifier(max_depth=20, max_features=4, random_state=101)</pre><b>In a Jupyter environment, please rerun this cell to show the HTML representation or trust the notebook. <br />On GitHub, the HTML representation is unable to render, please try loading this page with nbviewer.org.</b></div><div class=\"sk-container\" hidden><div class=\"sk-item\"><div class=\"sk-estimator sk-toggleable\"><input class=\"sk-toggleable__control sk-hidden--visually\" id=\"sk-estimator-id-21\" type=\"checkbox\" checked><label for=\"sk-estimator-id-21\" class=\"sk-toggleable__label sk-toggleable__label-arrow\">RandomForestClassifier</label><div class=\"sk-toggleable__content\"><pre>RandomForestClassifier(max_depth=20, max_features=4, random_state=101)</pre></div></div></div></div></div>"
            ]
          },
          "metadata": {},
          "execution_count": 317
        }
      ]
    },
    {
      "cell_type": "code",
      "source": [
        "y_pred = rf.predict(X_test_scaled)"
      ],
      "metadata": {
        "id": "AcWQFXImCvdX"
      },
      "id": "AcWQFXImCvdX",
      "execution_count": 318,
      "outputs": []
    },
    {
      "cell_type": "code",
      "source": [
        "confusion_matrix(y_test,y_pred)"
      ],
      "metadata": {
        "colab": {
          "base_uri": "https://localhost:8080/"
        },
        "id": "2KTs2EgXCy2b",
        "outputId": "61e10b33-cf91-4480-d858-b73f5c01f95b"
      },
      "id": "2KTs2EgXCy2b",
      "execution_count": 319,
      "outputs": [
        {
          "output_type": "execute_result",
          "data": {
            "text/plain": [
              "array([[699,  13],\n",
              "       [ 22, 727]])"
            ]
          },
          "metadata": {},
          "execution_count": 319
        }
      ]
    },
    {
      "cell_type": "code",
      "source": [
        "print(classification_report(y_test,y_pred))"
      ],
      "metadata": {
        "colab": {
          "base_uri": "https://localhost:8080/"
        },
        "id": "yOCvmEgrC3BF",
        "outputId": "4dd876d4-935a-42fe-d9fa-282b04962c8a"
      },
      "id": "yOCvmEgrC3BF",
      "execution_count": 320,
      "outputs": [
        {
          "output_type": "stream",
          "name": "stdout",
          "text": [
            "              precision    recall  f1-score   support\n",
            "\n",
            "           0       0.97      0.98      0.98       712\n",
            "           1       0.98      0.97      0.98       749\n",
            "\n",
            "    accuracy                           0.98      1461\n",
            "   macro avg       0.98      0.98      0.98      1461\n",
            "weighted avg       0.98      0.98      0.98      1461\n",
            "\n"
          ]
        }
      ]
    },
    {
      "cell_type": "code",
      "source": [],
      "metadata": {
        "id": "75PGBm9YLWKY"
      },
      "id": "75PGBm9YLWKY",
      "execution_count": null,
      "outputs": []
    },
    {
      "cell_type": "markdown",
      "source": [
        "# **XgBoost**"
      ],
      "metadata": {
        "id": "v08UjD7jLXoy"
      },
      "id": "v08UjD7jLXoy"
    },
    {
      "cell_type": "code",
      "source": [
        "from xgboost import XGBClassifier"
      ],
      "metadata": {
        "id": "ahWHqJn1DxQl"
      },
      "id": "ahWHqJn1DxQl",
      "execution_count": 307,
      "outputs": []
    },
    {
      "cell_type": "code",
      "source": [
        "xgb = XGBClassifier(n_estimators = 200 , max_depth = 20,random_state = 101)"
      ],
      "metadata": {
        "id": "7KbDtTkwEwIr"
      },
      "id": "7KbDtTkwEwIr",
      "execution_count": 312,
      "outputs": []
    },
    {
      "cell_type": "code",
      "source": [
        "xgb.fit(X_train_scaled,y_train)"
      ],
      "metadata": {
        "colab": {
          "base_uri": "https://localhost:8080/",
          "height": 248
        },
        "id": "VV1RzkP9FCd-",
        "outputId": "62836689-5688-424c-e38b-16546b9f1c98"
      },
      "id": "VV1RzkP9FCd-",
      "execution_count": 313,
      "outputs": [
        {
          "output_type": "execute_result",
          "data": {
            "text/plain": [
              "XGBClassifier(base_score=None, booster=None, callbacks=None,\n",
              "              colsample_bylevel=None, colsample_bynode=None,\n",
              "              colsample_bytree=None, early_stopping_rounds=None,\n",
              "              enable_categorical=False, eval_metric=None, feature_types=None,\n",
              "              gamma=None, gpu_id=None, grow_policy=None, importance_type=None,\n",
              "              interaction_constraints=None, learning_rate=None, max_bin=None,\n",
              "              max_cat_threshold=None, max_cat_to_onehot=None,\n",
              "              max_delta_step=None, max_depth=20, max_leaves=None,\n",
              "              min_child_weight=None, missing=nan, monotone_constraints=None,\n",
              "              n_estimators=200, n_jobs=None, num_parallel_tree=None,\n",
              "              predictor=None, random_state=101, ...)"
            ],
            "text/html": [
              "<style>#sk-container-id-20 {color: black;background-color: white;}#sk-container-id-20 pre{padding: 0;}#sk-container-id-20 div.sk-toggleable {background-color: white;}#sk-container-id-20 label.sk-toggleable__label {cursor: pointer;display: block;width: 100%;margin-bottom: 0;padding: 0.3em;box-sizing: border-box;text-align: center;}#sk-container-id-20 label.sk-toggleable__label-arrow:before {content: \"▸\";float: left;margin-right: 0.25em;color: #696969;}#sk-container-id-20 label.sk-toggleable__label-arrow:hover:before {color: black;}#sk-container-id-20 div.sk-estimator:hover label.sk-toggleable__label-arrow:before {color: black;}#sk-container-id-20 div.sk-toggleable__content {max-height: 0;max-width: 0;overflow: hidden;text-align: left;background-color: #f0f8ff;}#sk-container-id-20 div.sk-toggleable__content pre {margin: 0.2em;color: black;border-radius: 0.25em;background-color: #f0f8ff;}#sk-container-id-20 input.sk-toggleable__control:checked~div.sk-toggleable__content {max-height: 200px;max-width: 100%;overflow: auto;}#sk-container-id-20 input.sk-toggleable__control:checked~label.sk-toggleable__label-arrow:before {content: \"▾\";}#sk-container-id-20 div.sk-estimator input.sk-toggleable__control:checked~label.sk-toggleable__label {background-color: #d4ebff;}#sk-container-id-20 div.sk-label input.sk-toggleable__control:checked~label.sk-toggleable__label {background-color: #d4ebff;}#sk-container-id-20 input.sk-hidden--visually {border: 0;clip: rect(1px 1px 1px 1px);clip: rect(1px, 1px, 1px, 1px);height: 1px;margin: -1px;overflow: hidden;padding: 0;position: absolute;width: 1px;}#sk-container-id-20 div.sk-estimator {font-family: monospace;background-color: #f0f8ff;border: 1px dotted black;border-radius: 0.25em;box-sizing: border-box;margin-bottom: 0.5em;}#sk-container-id-20 div.sk-estimator:hover {background-color: #d4ebff;}#sk-container-id-20 div.sk-parallel-item::after {content: \"\";width: 100%;border-bottom: 1px solid gray;flex-grow: 1;}#sk-container-id-20 div.sk-label:hover label.sk-toggleable__label {background-color: #d4ebff;}#sk-container-id-20 div.sk-serial::before {content: \"\";position: absolute;border-left: 1px solid gray;box-sizing: border-box;top: 0;bottom: 0;left: 50%;z-index: 0;}#sk-container-id-20 div.sk-serial {display: flex;flex-direction: column;align-items: center;background-color: white;padding-right: 0.2em;padding-left: 0.2em;position: relative;}#sk-container-id-20 div.sk-item {position: relative;z-index: 1;}#sk-container-id-20 div.sk-parallel {display: flex;align-items: stretch;justify-content: center;background-color: white;position: relative;}#sk-container-id-20 div.sk-item::before, #sk-container-id-20 div.sk-parallel-item::before {content: \"\";position: absolute;border-left: 1px solid gray;box-sizing: border-box;top: 0;bottom: 0;left: 50%;z-index: -1;}#sk-container-id-20 div.sk-parallel-item {display: flex;flex-direction: column;z-index: 1;position: relative;background-color: white;}#sk-container-id-20 div.sk-parallel-item:first-child::after {align-self: flex-end;width: 50%;}#sk-container-id-20 div.sk-parallel-item:last-child::after {align-self: flex-start;width: 50%;}#sk-container-id-20 div.sk-parallel-item:only-child::after {width: 0;}#sk-container-id-20 div.sk-dashed-wrapped {border: 1px dashed gray;margin: 0 0.4em 0.5em 0.4em;box-sizing: border-box;padding-bottom: 0.4em;background-color: white;}#sk-container-id-20 div.sk-label label {font-family: monospace;font-weight: bold;display: inline-block;line-height: 1.2em;}#sk-container-id-20 div.sk-label-container {text-align: center;}#sk-container-id-20 div.sk-container {/* jupyter's `normalize.less` sets `[hidden] { display: none; }` but bootstrap.min.css set `[hidden] { display: none !important; }` so we also need the `!important` here to be able to override the default hidden behavior on the sphinx rendered scikit-learn.org. See: https://github.com/scikit-learn/scikit-learn/issues/21755 */display: inline-block !important;position: relative;}#sk-container-id-20 div.sk-text-repr-fallback {display: none;}</style><div id=\"sk-container-id-20\" class=\"sk-top-container\"><div class=\"sk-text-repr-fallback\"><pre>XGBClassifier(base_score=None, booster=None, callbacks=None,\n",
              "              colsample_bylevel=None, colsample_bynode=None,\n",
              "              colsample_bytree=None, early_stopping_rounds=None,\n",
              "              enable_categorical=False, eval_metric=None, feature_types=None,\n",
              "              gamma=None, gpu_id=None, grow_policy=None, importance_type=None,\n",
              "              interaction_constraints=None, learning_rate=None, max_bin=None,\n",
              "              max_cat_threshold=None, max_cat_to_onehot=None,\n",
              "              max_delta_step=None, max_depth=20, max_leaves=None,\n",
              "              min_child_weight=None, missing=nan, monotone_constraints=None,\n",
              "              n_estimators=200, n_jobs=None, num_parallel_tree=None,\n",
              "              predictor=None, random_state=101, ...)</pre><b>In a Jupyter environment, please rerun this cell to show the HTML representation or trust the notebook. <br />On GitHub, the HTML representation is unable to render, please try loading this page with nbviewer.org.</b></div><div class=\"sk-container\" hidden><div class=\"sk-item\"><div class=\"sk-estimator sk-toggleable\"><input class=\"sk-toggleable__control sk-hidden--visually\" id=\"sk-estimator-id-20\" type=\"checkbox\" checked><label for=\"sk-estimator-id-20\" class=\"sk-toggleable__label sk-toggleable__label-arrow\">XGBClassifier</label><div class=\"sk-toggleable__content\"><pre>XGBClassifier(base_score=None, booster=None, callbacks=None,\n",
              "              colsample_bylevel=None, colsample_bynode=None,\n",
              "              colsample_bytree=None, early_stopping_rounds=None,\n",
              "              enable_categorical=False, eval_metric=None, feature_types=None,\n",
              "              gamma=None, gpu_id=None, grow_policy=None, importance_type=None,\n",
              "              interaction_constraints=None, learning_rate=None, max_bin=None,\n",
              "              max_cat_threshold=None, max_cat_to_onehot=None,\n",
              "              max_delta_step=None, max_depth=20, max_leaves=None,\n",
              "              min_child_weight=None, missing=nan, monotone_constraints=None,\n",
              "              n_estimators=200, n_jobs=None, num_parallel_tree=None,\n",
              "              predictor=None, random_state=101, ...)</pre></div></div></div></div></div>"
            ]
          },
          "metadata": {},
          "execution_count": 313
        }
      ]
    },
    {
      "cell_type": "code",
      "source": [
        "y_pred_xgb = xgb.predict(X_test_scaled)"
      ],
      "metadata": {
        "id": "GE2z8dbDFFYv"
      },
      "id": "GE2z8dbDFFYv",
      "execution_count": 314,
      "outputs": []
    },
    {
      "cell_type": "code",
      "source": [
        "confusion_matrix(y_test,y_pred_xgb)"
      ],
      "metadata": {
        "colab": {
          "base_uri": "https://localhost:8080/"
        },
        "id": "FZ4wfql1FJIM",
        "outputId": "df824838-298c-48ff-cbcd-d2b114b58409"
      },
      "id": "FZ4wfql1FJIM",
      "execution_count": 315,
      "outputs": [
        {
          "output_type": "execute_result",
          "data": {
            "text/plain": [
              "array([[699,  13],\n",
              "       [ 27, 722]])"
            ]
          },
          "metadata": {},
          "execution_count": 315
        }
      ]
    },
    {
      "cell_type": "code",
      "source": [],
      "metadata": {
        "id": "1yZQoEN0FM3O"
      },
      "id": "1yZQoEN0FM3O",
      "execution_count": 311,
      "outputs": []
    },
    {
      "cell_type": "markdown",
      "source": [
        "# Overall Summary : -\n",
        "Within the scope of our customer churn prediction project, we embarked on a comparative analysis of three distinct machine learning algorithms: neural networks, random forest, and XGBoost. After conducting meticulous training and thorough evaluations, a notable trend emerged—both random forest and XGBoost consistently exhibited superior performance over the neural network, even with minimal hyperparameter fine-tuning. This observation held particular significance given the inherent imbalance within the dataset.\n",
        "\n",
        "Since the dataset featured an imbalanced distribution, our evaluation centered around metrics that are particularly well-suited to such scenarios: the F1 score and confusion matrices. These metrics allowed us to assess the models' abilities to effectively navigate the challenges posed by the disproportionate representation of classes. Encouragingly, both random forest and XGBoost consistently displayed enhanced predictive capabilities compared to the neural network."
      ],
      "metadata": {
        "id": "k5Zi-doEG3Pt"
      },
      "id": "k5Zi-doEG3Pt"
    },
    {
      "cell_type": "code",
      "source": [],
      "metadata": {
        "id": "QzOHK2aEG7Cw"
      },
      "id": "QzOHK2aEG7Cw",
      "execution_count": 311,
      "outputs": []
    }
  ],
  "metadata": {
    "colab": {
      "provenance": [],
      "include_colab_link": true
    },
    "kernelspec": {
      "display_name": "Python 3 (ipykernel)",
      "language": "python",
      "name": "python3"
    },
    "language_info": {
      "codemirror_mode": {
        "name": "ipython",
        "version": 3
      },
      "file_extension": ".py",
      "mimetype": "text/x-python",
      "name": "python",
      "nbconvert_exporter": "python",
      "pygments_lexer": "ipython3",
      "version": "3.9.13"
    }
  },
  "nbformat": 4,
  "nbformat_minor": 5
}